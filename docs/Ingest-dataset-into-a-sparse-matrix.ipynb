{
 "cells": [
  {
   "cell_type": "markdown",
   "id": "a08d7d49",
   "metadata": {},
   "source": [
    "# Ingest dataset into a sparse matrix\n",
    "\n",
    "Anton Antonov  \n",
    "RakuForPrediction at WordPress   \n",
    "July, October 2025"
   ]
  },
  {
   "cell_type": "markdown",
   "id": "6f404527",
   "metadata": {},
   "source": [
    "----\n",
    "\n",
    "## Setup"
   ]
  },
  {
   "cell_type": "code",
   "execution_count": null,
   "id": "e0abdf43",
   "metadata": {},
   "outputs": [],
   "source": [
    "use Data::Reshapers;\n",
    "use Math::SparseMatrix :ALL;\n",
    "use Math::SparseMatrix::DOK;\n",
    "use Math::SparseMatrix::Utilities;\n",
    "\n",
    "use ML::SparseMatrixRecommender;\n",
    "use ML::TriesWithFrequencies;"
   ]
  },
  {
   "cell_type": "code",
   "execution_count": null,
   "id": "f28eaba4",
   "metadata": {},
   "outputs": [],
   "source": [
    "#% javascript\n",
    "require.config({\n",
    "     paths: {\n",
    "     d3: 'https://d3js.org/d3.v7.min'\n",
    "}});\n",
    "\n",
    "require(['d3'], function(d3) {\n",
    "     console.log(d3);\n",
    "});"
   ]
  },
  {
   "cell_type": "code",
   "execution_count": null,
   "id": "42982cf4",
   "metadata": {},
   "outputs": [],
   "source": [
    "#% js\n",
    "js-d3-list-line-plot(10.rand xx 40, background => 'none', stroke-width => 2)"
   ]
  },
  {
   "cell_type": "code",
   "execution_count": null,
   "id": "d01fec77",
   "metadata": {},
   "outputs": [],
   "source": [
    "my $title-color = 'Silver';\n",
    "my $stroke-color = 'SlateGray';\n",
    "my $tooltip-color = 'LightBlue';\n",
    "my $tooltip-background-color = 'none';\n",
    "my $tick-labels-font-size = 10;\n",
    "my $tick-labels-color = 'Silver';\n",
    "my $tick-labels-font-family = 'Helvetica';\n",
    "my $background = '#1F1F1F';\n",
    "my $color-scheme = 'schemeTableau10';\n",
    "my $color-palette = 'Inferno';\n",
    "my $edge-thickness = 3;\n",
    "my $vertex-size = 6;\n",
    "my $mmd-theme = q:to/END/;\n",
    "%%{\n",
    "  init: {\n",
    "    'theme': 'forest',\n",
    "    'themeVariables': {\n",
    "      'lineColor': 'Ivory'\n",
    "    }\n",
    "  }\n",
    "}%%\n",
    "END\n",
    "my %force = collision => {iterations => 0, radius => 10},link => {distance => 180};\n",
    "my %force2 = charge => {strength => -30, iterations => 4}, collision => {radius => 50, iterations => 4}, link => {distance => 30};\n",
    "\n",
    "my %opts = :$background, :$title-color, :$edge-thickness, :$vertex-size;"
   ]
  },
  {
   "cell_type": "markdown",
   "id": "10ec46f8",
   "metadata": {},
   "source": [
    "----\n",
    "\n",
    "## Ingestion"
   ]
  },
  {
   "cell_type": "code",
   "execution_count": 21,
   "id": "4b322a93",
   "metadata": {},
   "outputs": [
    {
     "name": "stdout",
     "output_type": "stream",
     "text": [
      "+----------------+----------------+-----------------+---------------+-------------------+\n",
      "| passengerAge   | passengerClass | id              | passengerSex  | passengerSurvival |\n",
      "+----------------+----------------+-----------------+---------------+-------------------+\n",
      "| 20      => 334 | 3rd => 709     | 494     => 1    | male   => 843 | died     => 809   |\n",
      "| -1      => 263 | 1st => 323     | 433     => 1    | female => 466 | survived => 500   |\n",
      "| 30      => 258 | 2nd => 277     | 1240    => 1    |               |                   |\n",
      "| 40      => 190 |                | 445     => 1    |               |                   |\n",
      "| 50      => 88  |                | 843     => 1    |               |                   |\n",
      "| 60      => 57  |                | 1051    => 1    |               |                   |\n",
      "| 0       => 56  |                | 986     => 1    |               |                   |\n",
      "| (Other) => 63  |                | (Other) => 1302 |               |                   |\n",
      "+----------------+----------------+-----------------+---------------+-------------------+\n"
     ]
    }
   ],
   "source": [
    "my @titanic = Data::Reshapers::get-titanic-dataset(headers => 'auto');\n",
    "sink records-summary(@titanic);"
   ]
  },
  {
   "cell_type": "code",
   "execution_count": 22,
   "id": "38bd46ba",
   "metadata": {},
   "outputs": [
    {
     "data": {
      "text/html": [
       "<table border=\"1\"><thead><tr><th>passengerSurvival</th><th>passengerSex</th><th>passengerClass</th><th>id</th><th>passengerAge</th></tr></thead><tbody><tr><td>survived</td><td>female</td><td>1st</td><td>70</td><td>-1</td></tr><tr><td>died</td><td>male</td><td>3rd</td><td>1069</td><td>60</td></tr><tr><td>survived</td><td>male</td><td>2nd</td><td>377</td><td>20</td></tr><tr><td>died</td><td>male</td><td>3rd</td><td>621</td><td>30</td></tr><tr><td>survived</td><td>male</td><td>1st</td><td>255</td><td>-1</td></tr><tr><td>died</td><td>male</td><td>3rd</td><td>1112</td><td>0</td></tr><tr><td>died</td><td>male</td><td>3rd</td><td>1151</td><td>-1</td></tr><tr><td>died</td><td>male</td><td>3rd</td><td>1208</td><td>10</td></tr><tr><td>survived</td><td>female</td><td>2nd</td><td>461</td><td>20</td></tr><tr><td>died</td><td>male</td><td>3rd</td><td>844</td><td>-1</td></tr><tr><td>survived</td><td>female</td><td>1st</td><td>215</td><td>20</td></tr><tr><td>died</td><td>male</td><td>2nd</td><td>460</td><td>40</td></tr></tbody></table>"
      ]
     },
     "execution_count": 22,
     "metadata": {},
     "output_type": "execute_result"
    }
   ],
   "source": [
    "#% html\n",
    "@titanic.pick(12) ==> to-html()"
   ]
  },
  {
   "cell_type": "markdown",
   "id": "a0f9be40",
   "metadata": {},
   "source": [
    "---\n",
    "\n",
    "## SMR matrix creation and plotting"
   ]
  },
  {
   "cell_type": "code",
   "execution_count": null,
   "id": "80a37926",
   "metadata": {},
   "outputs": [],
   "source": [
    "my ML::SparseMatrixRecommender $smrObj .= new;\n",
    "\n",
    "my $mat = $smrObj.create-from-wide-form(@titanic, tag-types => Whatever, item-column-name => <id> ).take-M;\n"
   ]
  },
  {
   "cell_type": "code",
   "execution_count": null,
   "id": "69ef4fd0",
   "metadata": {},
   "outputs": [],
   "source": [
    "#% js\n",
    "js-d3-list-plot($mat.tuples, :$background, :700width, :!axes)"
   ]
  },
  {
   "cell_type": "code",
   "execution_count": null,
   "id": "658b3435",
   "metadata": {},
   "outputs": [],
   "source": [
    "#% js\n",
    "my @ds3D = $mat.tuples.map({ <y x z tooltip>.Array Z=> [|$_.Array, \"⎡{$mat.row-names[$_[0]]}⎦ : ⎡{$mat.column-names[$_[1]]}⎦ : {$_.tail}\"] })».Hash;\n",
    "js-d3-matrix-plot(@ds3D, \n",
    "    :800height, \n",
    "    :500width,\n",
    "    :$tooltip-background-color, \n",
    "    :$tooltip-color, \n",
    "    :$background, \n",
    ")"
   ]
  },
  {
   "cell_type": "code",
   "execution_count": null,
   "id": "7cb15352",
   "metadata": {},
   "outputs": [],
   "source": [
    "#%js\n",
    " my %opts = margins => {top => 30, left => 16, right => 16, bottom => 16}, :$tick-labels-font-size, :$tick-labels-color, :$title-color, :tooltip, :$color-palette;\n",
    "$mat[0..50].Array ==> js-d3-matrix-plot(width=>300, |%opts)"
   ]
  },
  {
   "cell_type": "markdown",
   "id": "08461594",
   "metadata": {},
   "source": [
    "---- \n",
    "\n",
    "## Long form"
   ]
  },
  {
   "cell_type": "code",
   "execution_count": null,
   "id": "22d18a0c",
   "metadata": {},
   "outputs": [],
   "source": [
    "my @dsTitanicLongForm = to-long-format(@titanic, 'id');\n",
    "deduce-type(@dsTitanicLongForm)"
   ]
  },
  {
   "cell_type": "code",
   "execution_count": null,
   "id": "58075160",
   "metadata": {},
   "outputs": [],
   "source": [
    "#% html\n",
    "@dsTitanicLongForm.pick(12)\n",
    "==> to-html(field-names => <id Variable Value>)"
   ]
  },
  {
   "cell_type": "code",
   "execution_count": null,
   "id": "641c6123",
   "metadata": {},
   "outputs": [],
   "source": [
    "my $smrObjLong = ML::SparseMatrixRecommender.new\n",
    ".create-from-long-form(@dsTitanicLongForm, item-column-name => 'id', tag-type-column-name => 'Variable', tag-column-name => 'Value')"
   ]
  },
  {
   "cell_type": "markdown",
   "id": "58d27f4c",
   "metadata": {},
   "source": [
    "----\n",
    "\n",
    "## Two ways of cross-tabulation"
   ]
  },
  {
   "cell_type": "code",
   "execution_count": null,
   "id": "56a8560e",
   "metadata": {},
   "outputs": [],
   "source": [
    "#% html\n",
    "@titanic.pick(12)\n",
    "==> to-html()"
   ]
  },
  {
   "cell_type": "code",
   "execution_count": null,
   "id": "f7782246",
   "metadata": {},
   "outputs": [],
   "source": [
    "cross-tabulate(@titanic, 'passengerClass', 'passengerSex')\n",
    "==> to-pretty-table"
   ]
  },
  {
   "cell_type": "markdown",
   "id": "0c4fab1f",
   "metadata": {},
   "source": [
    "Cannot be used:"
   ]
  },
  {
   "cell_type": "code",
   "execution_count": null,
   "id": "b03b859c",
   "metadata": {},
   "outputs": [],
   "source": [
    "my @rules = cross-tabulate(@titanic, 'id', 'passengerSex').kv.map( -> $k, %v { %v.map({ ($k, $_.key) => $_.value }) }).flat;\n",
    "deduce-type(@rules)"
   ]
  },
  {
   "cell_type": "markdown",
   "id": "152a1d89",
   "metadata": {},
   "source": [
    "Making an \"edge dataset\" works (and it is implemented in both \"Math::SparseMatrix\" and \"ML::SparseMatrixRecommender\"):"
   ]
  },
  {
   "cell_type": "code",
   "execution_count": null,
   "id": "691876d4",
   "metadata": {},
   "outputs": [],
   "source": [
    "my @dataset = cross-tabulate(@titanic, 'id', 'passengerSex').kv.map( -> $k, %v { %v.map({ %(from => $k, to => $_.key, weight => $_.value) }) }).map(*.Slip);\n",
    "deduce-type(@dataset)"
   ]
  },
  {
   "cell_type": "code",
   "execution_count": null,
   "id": "5ec09a59",
   "metadata": {},
   "outputs": [],
   "source": [
    "Math::SparseMatrix.new(edge-dataset => @dataset):directed"
   ]
  },
  {
   "cell_type": "markdown",
   "id": "326edf8e",
   "metadata": {},
   "source": [
    "---\n",
    "\n",
    "## Tries"
   ]
  },
  {
   "cell_type": "markdown",
   "id": "c09836d7",
   "metadata": {},
   "source": [
    "\"Deeper\" cross-tabulation with tries-with-frequencies:"
   ]
  },
  {
   "cell_type": "code",
   "execution_count": 23,
   "id": "bce8a0c8",
   "metadata": {},
   "outputs": [
    {
     "data": {
      "text/plain": [
       "TRIEROOT => 1309\n",
       "├─died => 809\n",
       "│ ├─female => 127\n",
       "│ │ ├─1st => 5\n",
       "│ │ ├─2nd => 12\n",
       "│ │ └─3rd => 110\n",
       "│ └─male => 682\n",
       "│   ├─1st => 118\n",
       "│   ├─2nd => 146\n",
       "│   └─3rd => 418\n",
       "└─survived => 500\n",
       "  ├─female => 339\n",
       "  │ ├─1st => 139\n",
       "  │ ├─2nd => 94\n",
       "  │ └─3rd => 106\n",
       "  └─male => 161\n",
       "    ├─1st => 61\n",
       "    ├─2nd => 25\n",
       "    └─3rd => 75"
      ]
     },
     "execution_count": 23,
     "metadata": {},
     "output_type": "execute_result"
    }
   ],
   "source": [
    "sink my $tr = trie-create(@titanic.map(*<passengerSurvival passengerSex passengerClass>));\n",
    "\n",
    "trie-form($tr)"
   ]
  }
 ],
 "metadata": {
  "kernelspec": {
   "display_name": "RakuChatbook",
   "language": "raku",
   "name": "raku"
  },
  "language_info": {
   "file_extension": ".raku",
   "mimetype": "text/x-raku",
   "name": "raku",
   "version": "6.d"
  }
 },
 "nbformat": 4,
 "nbformat_minor": 5
}
