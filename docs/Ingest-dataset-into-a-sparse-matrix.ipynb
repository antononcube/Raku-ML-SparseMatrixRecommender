{
 "cells": [
  {
   "cell_type": "markdown",
   "id": "a08d7d49",
   "metadata": {},
   "source": [
    "# Ingest dataset into a sparse matrix\n",
    "\n",
    "Anton Antonov  \n",
    "RakuForPrediction at WordPress   \n",
    "July, October 2025"
   ]
  },
  {
   "cell_type": "markdown",
   "id": "6f404527",
   "metadata": {},
   "source": [
    "----\n",
    "\n",
    "## Setup"
   ]
  },
  {
   "cell_type": "code",
   "execution_count": null,
   "id": "e0abdf43",
   "metadata": {},
   "outputs": [],
   "source": [
    "use Data::Reshapers;\n",
    "use Math::SparseMatrix :ALL;\n",
    "use Math::SparseMatrix::DOK;\n",
    "use Math::SparseMatrix::Utilities;\n",
    "\n",
    "use ML::SparseMatrixRecommender;\n",
    "use ML::TriesWithFrequencies;"
   ]
  },
  {
   "cell_type": "code",
   "execution_count": null,
   "id": "f28eaba4",
   "metadata": {},
   "outputs": [],
   "source": [
    "#% javascript\n",
    "require.config({\n",
    "     paths: {\n",
    "     d3: 'https://d3js.org/d3.v7.min'\n",
    "}});\n",
    "\n",
    "require(['d3'], function(d3) {\n",
    "     console.log(d3);\n",
    "});"
   ]
  },
  {
   "cell_type": "code",
   "execution_count": null,
   "id": "42982cf4",
   "metadata": {},
   "outputs": [],
   "source": [
    "#% js\n",
    "js-d3-list-line-plot(10.rand xx 40, background => 'none', stroke-width => 2)"
   ]
  },
  {
   "cell_type": "code",
   "execution_count": null,
   "id": "d01fec77",
   "metadata": {},
   "outputs": [],
   "source": [
    "my $title-color = 'Silver';\n",
    "my $stroke-color = 'SlateGray';\n",
    "my $tooltip-color = 'LightBlue';\n",
    "my $tooltip-background-color = 'none';\n",
    "my $tick-labels-font-size = 10;\n",
    "my $tick-labels-color = 'Silver';\n",
    "my $tick-labels-font-family = 'Helvetica';\n",
    "my $background = '#1F1F1F';\n",
    "my $color-scheme = 'schemeTableau10';\n",
    "my $color-palette = 'Inferno';\n",
    "my $edge-thickness = 3;\n",
    "my $vertex-size = 6;\n",
    "my $mmd-theme = q:to/END/;\n",
    "%%{\n",
    "  init: {\n",
    "    'theme': 'forest',\n",
    "    'themeVariables': {\n",
    "      'lineColor': 'Ivory'\n",
    "    }\n",
    "  }\n",
    "}%%\n",
    "END\n",
    "my %force = collision => {iterations => 0, radius => 10},link => {distance => 180};\n",
    "my %force2 = charge => {strength => -30, iterations => 4}, collision => {radius => 50, iterations => 4}, link => {distance => 30};\n",
    "\n",
    "my %opts = :$background, :$title-color, :$edge-thickness, :$vertex-size;"
   ]
  },
  {
   "cell_type": "markdown",
   "id": "10ec46f8",
   "metadata": {},
   "source": [
    "----\n",
    "\n",
    "## Ingestion"
   ]
  },
  {
   "cell_type": "code",
   "execution_count": 99,
   "id": "4b322a93",
   "metadata": {},
   "outputs": [
    {
     "name": "stdout",
     "output_type": "stream",
     "text": [
      "+-----------------+----------------+-------------------+----------------+---------------+\n",
      "| id              | passengerClass | passengerSurvival | passengerAge   | passengerSex  |\n",
      "+-----------------+----------------+-------------------+----------------+---------------+\n",
      "| 913     => 1    | 3rd => 709     | died     => 809   | 20      => 334 | male   => 843 |\n",
      "| 754     => 1    | 1st => 323     | survived => 500   | -1      => 263 | female => 466 |\n",
      "| 517     => 1    | 2nd => 277     |                   | 30      => 258 |               |\n",
      "| 1128    => 1    |                |                   | 40      => 190 |               |\n",
      "| 174     => 1    |                |                   | 50      => 88  |               |\n",
      "| 1201    => 1    |                |                   | 60      => 57  |               |\n",
      "| 634     => 1    |                |                   | 0       => 56  |               |\n",
      "| (Other) => 1302 |                |                   | (Other) => 63  |               |\n",
      "+-----------------+----------------+-------------------+----------------+---------------+\n"
     ]
    }
   ],
   "source": [
    "my @titanic = Data::Reshapers::get-titanic-dataset(headers => 'auto');\n",
    "sink records-summary(@titanic);"
   ]
  },
  {
   "cell_type": "code",
   "execution_count": 100,
   "id": "38bd46ba",
   "metadata": {},
   "outputs": [
    {
     "data": {
      "text/html": [
       "<table border=\"1\"><thead><tr><th>id</th><th>passengerAge</th><th>passengerSurvival</th><th>passengerSex</th><th>passengerClass</th></tr></thead><tbody><tr><td>23</td><td>30</td><td>survived</td><td>male</td><td>1st</td></tr><tr><td>994</td><td>-1</td><td>survived</td><td>female</td><td>3rd</td></tr><tr><td>766</td><td>30</td><td>survived</td><td>female</td><td>3rd</td></tr><tr><td>178</td><td>40</td><td>survived</td><td>male</td><td>1st</td></tr><tr><td>184</td><td>40</td><td>survived</td><td>male</td><td>1st</td></tr><tr><td>91</td><td>30</td><td>survived</td><td>female</td><td>1st</td></tr><tr><td>661</td><td>20</td><td>survived</td><td>female</td><td>3rd</td></tr><tr><td>505</td><td>40</td><td>died</td><td>male</td><td>2nd</td></tr><tr><td>717</td><td>30</td><td>died</td><td>male</td><td>3rd</td></tr><tr><td>383</td><td>-1</td><td>died</td><td>female</td><td>2nd</td></tr><tr><td>891</td><td>20</td><td>died</td><td>male</td><td>3rd</td></tr><tr><td>835</td><td>30</td><td>died</td><td>male</td><td>3rd</td></tr></tbody></table>"
      ]
     },
     "execution_count": 100,
     "metadata": {},
     "output_type": "execute_result"
    }
   ],
   "source": [
    "#% html\n",
    "@titanic.pick(12) ==> to-html()"
   ]
  },
  {
   "cell_type": "markdown",
   "id": "a0f9be40",
   "metadata": {},
   "source": [
    "---\n",
    "\n",
    "## SMR matrix creation and plotting"
   ]
  },
  {
   "cell_type": "code",
   "execution_count": null,
   "id": "80a37926",
   "metadata": {},
   "outputs": [],
   "source": [
    "my ML::SparseMatrixRecommender $smrObj .= new;\n",
    "\n",
    "my $mat = $smrObj.create-from-wide-form(@titanic, tag-types => Whatever, item-column-name => <id> ).take-M;\n"
   ]
  },
  {
   "cell_type": "code",
   "execution_count": null,
   "id": "69ef4fd0",
   "metadata": {},
   "outputs": [],
   "source": [
    "#% js\n",
    "js-d3-list-plot($mat.tuples, :$background, :700width, :!axes)"
   ]
  },
  {
   "cell_type": "code",
   "execution_count": null,
   "id": "658b3435",
   "metadata": {},
   "outputs": [],
   "source": [
    "#% js\n",
    "my @ds3D = $mat.tuples.map({ <y x z tooltip>.Array Z=> [|$_.Array, \"⎡{$mat.row-names[$_[0]]}⎦ : ⎡{$mat.column-names[$_[1]]}⎦ : {$_.tail}\"] })».Hash;\n",
    "js-d3-matrix-plot(@ds3D, \n",
    "    :800height, \n",
    "    :500width,\n",
    "    :$tooltip-background-color, \n",
    "    :$tooltip-color, \n",
    "    :$background, \n",
    ")"
   ]
  },
  {
   "cell_type": "code",
   "execution_count": null,
   "id": "7cb15352",
   "metadata": {},
   "outputs": [],
   "source": [
    "#%js\n",
    " my %opts = margins => {top => 30, left => 16, right => 16, bottom => 16}, :$tick-labels-font-size, :$tick-labels-color, :$title-color, :tooltip, :$color-palette;\n",
    "$mat[0..50].Array ==> js-d3-matrix-plot(width=>300, |%opts)"
   ]
  },
  {
   "cell_type": "markdown",
   "id": "58d27f4c",
   "metadata": {},
   "source": [
    "----\n",
    "\n",
    "## Two ways of cross-tabulation"
   ]
  },
  {
   "cell_type": "code",
   "execution_count": 101,
   "id": "56a8560e",
   "metadata": {},
   "outputs": [
    {
     "data": {
      "text/html": [
       "<table border=\"1\"><thead><tr><th>id</th><th>passengerSex</th><th>passengerAge</th><th>passengerClass</th><th>passengerSurvival</th></tr></thead><tbody><tr><td>1207</td><td>male</td><td>0</td><td>3rd</td><td>died</td></tr><tr><td>150</td><td>female</td><td>40</td><td>1st</td><td>survived</td></tr><tr><td>1171</td><td>male</td><td>-1</td><td>3rd</td><td>died</td></tr><tr><td>1110</td><td>male</td><td>-1</td><td>3rd</td><td>died</td></tr><tr><td>241</td><td>male</td><td>40</td><td>1st</td><td>survived</td></tr><tr><td>1185</td><td>male</td><td>-1</td><td>3rd</td><td>died</td></tr><tr><td>1078</td><td>female</td><td>-1</td><td>3rd</td><td>survived</td></tr><tr><td>737</td><td>male</td><td>60</td><td>3rd</td><td>died</td></tr><tr><td>359</td><td>female</td><td>40</td><td>2nd</td><td>survived</td></tr><tr><td>547</td><td>female</td><td>30</td><td>2nd</td><td>survived</td></tr><tr><td>574</td><td>female</td><td>30</td><td>2nd</td><td>survived</td></tr><tr><td>9</td><td>female</td><td>50</td><td>1st</td><td>survived</td></tr></tbody></table>"
      ]
     },
     "execution_count": 101,
     "metadata": {},
     "output_type": "execute_result"
    }
   ],
   "source": [
    "#% html\n",
    "@titanic.pick(12)\n",
    "==> to-html()"
   ]
  },
  {
   "cell_type": "code",
   "execution_count": 103,
   "id": "f7782246",
   "metadata": {},
   "outputs": [
    {
     "data": {
      "text/plain": [
       "+-----+------+--------+\n",
       "|     | male | female |\n",
       "+-----+------+--------+\n",
       "| 1st | 179  |  144   |\n",
       "| 2nd | 171  |  106   |\n",
       "| 3rd | 493  |  216   |\n",
       "+-----+------+--------+"
      ]
     },
     "execution_count": 103,
     "metadata": {},
     "output_type": "execute_result"
    }
   ],
   "source": [
    "cross-tabulate(@titanic, 'passengerClass', 'passengerSex')\n",
    "==> to-pretty-table"
   ]
  },
  {
   "cell_type": "markdown",
   "id": "0c4fab1f",
   "metadata": {},
   "source": [
    "Cannot be used:"
   ]
  },
  {
   "cell_type": "code",
   "execution_count": 104,
   "id": "b03b859c",
   "metadata": {},
   "outputs": [
    {
     "data": {
      "text/plain": [
       "Vector(Pair(Vector(Atom((Str)), 2), Atom((Int))), 1309)"
      ]
     },
     "execution_count": 104,
     "metadata": {},
     "output_type": "execute_result"
    }
   ],
   "source": [
    "my @rules = cross-tabulate(@titanic, 'id', 'passengerSex').kv.map( -> $k, %v { %v.map({ ($k, $_.key) => $_.value }) }).flat;\n",
    "deduce-type(@rules)"
   ]
  },
  {
   "cell_type": "markdown",
   "id": "152a1d89",
   "metadata": {},
   "source": [
    "Making an \"edge dataset\" works (and it is implemented in both \"Math::SparseMatrix\" and \"ML::SparseMatrixRecommender\"):"
   ]
  },
  {
   "cell_type": "code",
   "execution_count": 105,
   "id": "691876d4",
   "metadata": {},
   "outputs": [
    {
     "data": {
      "text/plain": [
       "Vector(Struct([from, to, weight], [Str, Str, Int]), 1309)"
      ]
     },
     "execution_count": 105,
     "metadata": {},
     "output_type": "execute_result"
    }
   ],
   "source": [
    "my @dataset = cross-tabulate(@titanic, 'id', 'passengerSex').kv.map( -> $k, %v { %v.map({ %(from => $k, to => $_.key, weight => $_.value) }) }).map(*.Slip);\n",
    "deduce-type(@dataset)"
   ]
  },
  {
   "cell_type": "code",
   "execution_count": 106,
   "id": "5ec09a59",
   "metadata": {},
   "outputs": [
    {
     "data": {
      "text/plain": [
       "Math::SparseMatrix(:specified-elements(1309), :dimensions((1309, 2)), :density(0.5))"
      ]
     },
     "execution_count": 106,
     "metadata": {},
     "output_type": "execute_result"
    }
   ],
   "source": [
    "Math::SparseMatrix.new(edge-dataset => @dataset):directed"
   ]
  },
  {
   "cell_type": "markdown",
   "id": "326edf8e",
   "metadata": {},
   "source": [
    "---\n",
    "\n",
    "## Tries"
   ]
  },
  {
   "cell_type": "markdown",
   "id": "c09836d7",
   "metadata": {},
   "source": [
    "\"Deeper\" cross-tabulation with tries-with-frequencies:"
   ]
  },
  {
   "cell_type": "code",
   "execution_count": null,
   "id": "bce8a0c8",
   "metadata": {},
   "outputs": [
    {
     "data": {
      "text/plain": [
       "TRIEROOT => 1309\n",
       "├─died => 809\n",
       "│ ├─female => 127\n",
       "│ │ ├─1st => 5\n",
       "│ │ ├─2nd => 12\n",
       "│ │ └─3rd => 110\n",
       "│ └─male => 682\n",
       "│   ├─1st => 118\n",
       "│   ├─2nd => 146\n",
       "│   └─3rd => 418\n",
       "└─survived => 500\n",
       "  ├─female => 339\n",
       "  │ ├─1st => 139\n",
       "  │ ├─2nd => 94\n",
       "  │ └─3rd => 106\n",
       "  └─male => 161\n",
       "    ├─1st => 61\n",
       "    ├─2nd => 25\n",
       "    └─3rd => 75"
      ]
     },
     "execution_count": 108,
     "metadata": {},
     "output_type": "execute_result"
    }
   ],
   "source": [
    "sink my $tr = trie-create(@titanic.map(*<passengerSurvival passengerSex passengerClass>));\n",
    "\n",
    "trie-form($tr)"
   ]
  }
 ],
 "metadata": {
  "kernelspec": {
   "display_name": "RakuChatbook",
   "language": "raku",
   "name": "raku"
  },
  "language_info": {
   "file_extension": ".raku",
   "mimetype": "text/x-raku",
   "name": "raku",
   "version": "6.d"
  }
 },
 "nbformat": 4,
 "nbformat_minor": 5
}
