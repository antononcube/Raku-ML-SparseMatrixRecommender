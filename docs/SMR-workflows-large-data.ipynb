{
 "cells": [
  {
   "cell_type": "markdown",
   "id": "e2f36935",
   "metadata": {},
   "source": [
    "# SMR workflows large data\n",
    "\n",
    "Anton Antonov  \n",
    "RakuForPrediction at WordPress   \n",
    "October 2025"
   ]
  },
  {
   "cell_type": "markdown",
   "id": "5806f075",
   "metadata": {},
   "source": [
    "----\n",
    "\n",
    "## Setup"
   ]
  },
  {
   "cell_type": "code",
   "execution_count": 24,
   "id": "6df02b76",
   "metadata": {},
   "outputs": [],
   "source": [
    "use Data::Reshapers;\n",
    "use Data::Importers;\n",
    "use Data::Summarizers;\n",
    "use DSL::Translators;\n",
    "\n",
    "use Math::SparseMatrix :ALL;\n",
    "use Math::SparseMatrix::DOK;\n",
    "use Math::SparseMatrix::Utilities;\n",
    "\n",
    "use ML::SparseMatrixRecommender;"
   ]
  },
  {
   "cell_type": "code",
   "execution_count": 25,
   "id": "d45b4c34",
   "metadata": {},
   "outputs": [
    {
     "data": {
      "application/javascript": "(function(element) { require(['d3'], function(d3) {\n\n// set the dimensions and margins of the graph\nvar margin = {\"top\":40,\"right\":40,\"bottom\":40,\"left\":40},\n    width = 600 - margin.left - margin.right,\n    height = 400 - margin.top - margin.bottom;\n\n// append the svg object to the body of the page\nvar svg = d3\n   .select(element.get(0))\n  .append(\"svg\")\n    .attr(\"width\", width + margin.left + margin.right)\n    .attr(\"height\", height + margin.top + margin.bottom)\n    .style(\"background\", \"none\")\n  .append(\"g\")\n    .attr(\"transform\",\n          \"translate(\" + margin.left + \",\" + margin.top + \")\")\n\n// Obtain title\nvar title = \"\"\nvar titleFontSize = 16\n\nif ( title.length > 0 ) {\n    svg.append(\"text\")\n        .attr(\"x\", (width / 2))\n        .attr(\"y\", 0 - (margin.top / 2))\n        .attr(\"text-anchor\", \"middle\")\n        .style(\"font-size\", titleFontSize.toString() + \"px\")\n        .style(\"fill\", \"Black\")\n        .text(title);\n}\n\n// Obtain x-axis label\nvar xAxisLabel = \"\"\nvar xAxisLabelFontSize = 12\n\nif ( xAxisLabel.length > 0 ) {\n    svg.append(\"text\")\n        .attr(\"x\", (width / 2))\n        .attr(\"y\", height + margin.bottom - xAxisLabelFontSize/2)\n        .attr(\"text-anchor\", \"middle\")\n        .style(\"font-size\", xAxisLabelFontSize.toString() + \"px\")\n        .style(\"fill\", \"Black\")\n        .text(xAxisLabel);\n}\n\n// Obtain y-axis label\nvar yAxisLabel = \"\"\nvar yAxisLabelFontSize = 12\n\nif ( yAxisLabel.length > 0 ) {\n    svg.append(\"text\")\n        .attr(\"transform\", \"rotate(-90)\")\n        .attr(\"x\", - (height / 2))\n        .attr(\"y\", 0 - margin.left + yAxisLabelFontSize)\n        .attr(\"text-anchor\", \"middle\")\n        .style(\"font-size\", yAxisLabelFontSize.toString() + \"px\")\n        .style(\"fill\", \"Black\")\n        .text(yAxisLabel);\n}\n\n\n// Obtain data\nvar data = [{\"y\":5.737320843644703e0,\"x\":1},{\"y\":0.26385107202931746e0,\"x\":2},{\"y\":8.992475567719305e0,\"x\":3},{\"x\":4,\"y\":3.092354793630058e0},{\"x\":5,\"y\":7.261337498787949e0},{\"x\":6,\"y\":9.501221493584918e0},{\"x\":7,\"y\":8.00137068833675e0},{\"y\":5.689239950582991e0,\"x\":8},{\"y\":2.5547453573907966e0,\"x\":9},{\"y\":5.937745682442489e0,\"x\":10},{\"y\":0.053413129993525876e0,\"x\":11},{\"y\":3.88105414144845e0,\"x\":12},{\"y\":5.912388278978229e0,\"x\":13},{\"y\":9.647738515629719e0,\"x\":14},{\"x\":15,\"y\":4.561517711899493e0},{\"y\":9.008897378286285e0,\"x\":16},{\"y\":2.0610855138233286e0,\"x\":17},{\"y\":1.9356844570299836e0,\"x\":18},{\"y\":2.938394793798448e0,\"x\":19},{\"x\":20,\"y\":3.9983196630600393e0},{\"y\":5.3318593766827895e0,\"x\":21},{\"x\":22,\"y\":7.611990654410326e0},{\"x\":23,\"y\":6.377792439137215e0},{\"y\":1.252438728831765e0,\"x\":24},{\"y\":9.840125259235073e0,\"x\":25},{\"y\":0.060692241111804934e0,\"x\":26},{\"x\":27,\"y\":9.62975435964254e0},{\"x\":28,\"y\":8.340198627720575e0},{\"y\":3.1657767993612107e0,\"x\":29},{\"y\":2.6049500207381238e0,\"x\":30},{\"x\":31,\"y\":2.153359886331435e0},{\"y\":8.525394996562296e0,\"x\":32},{\"x\":33,\"y\":8.157490397775781e0},{\"y\":5.447171815973606e0,\"x\":34},{\"y\":3.2437992504436366e0,\"x\":35},{\"y\":3.0149140720611145e0,\"x\":36},{\"x\":37,\"y\":7.18371162819569e0},{\"x\":38,\"y\":6.955417410380875e0},{\"y\":7.382893968007735e0,\"x\":39},{\"y\":7.797606961721995e0,\"x\":40}]\n\nvar xMin = Math.min.apply(Math, data.map(function(o) { return o.x; }))\nvar xMax = Math.max.apply(Math, data.map(function(o) { return o.x; }))\n\nvar yMin = Math.min.apply(Math, data.map(function(o) { return o.y; }))\nvar yMax = Math.max.apply(Math, data.map(function(o) { return o.y; }))\n\n// X scale and Axis\nvar x = d3.scaleLinear()\n    .domain([xMin, xMax])\n    .range([0, width]);\n\n// Y scale and Axis\nvar y = d3.scaleLinear()\n    .domain([yMin, yMax])\n    .range([height, 0]);\n\nsvg\n  .append('g')\n  .attr(\"transform\", \"translate(0,\" + height + \")\")\n  .call(d3.axisBottom(x))\n\nsvg\n  .append('g')\n  .call(d3.axisLeft(y));\n\n// prepare a helper function\nvar lineFunc = d3.line()\n  .x(function(d) { return x(d.x) })\n  .y(function(d) { return y(d.y) })\n\n// Add the path using this helper function\nsvg.append('path')\n  .attr('d', lineFunc(data))\n  .attr(\"stroke-width\", 2)\n  .attr('stroke', \"SteelBlue\")\n  .attr('fill', 'none');\n\n}) })(element);\n"
     },
     "execution_count": 25,
     "metadata": {},
     "output_type": "execute_result"
    }
   ],
   "source": [
    "#% js\n",
    "js-d3-list-line-plot(10.rand xx 40, background => 'none', stroke-width => 2)"
   ]
  },
  {
   "cell_type": "code",
   "execution_count": 26,
   "id": "c3aa6415",
   "metadata": {},
   "outputs": [
    {
     "data": {
      "text/plain": [
       "{background => #1F1F1F, edge-thickness => 3, title-color => Silver, vertex-size => 6}"
      ]
     },
     "execution_count": 26,
     "metadata": {},
     "output_type": "execute_result"
    }
   ],
   "source": [
    "my $title-color = 'Silver';\n",
    "my $stroke-color = 'SlateGray';\n",
    "my $tooltip-color = 'LightBlue';\n",
    "my $tooltip-background-color = 'none';\n",
    "my $tick-labels-font-size = 10;\n",
    "my $tick-labels-color = 'Silver';\n",
    "my $tick-labels-font-family = 'Helvetica';\n",
    "my $background = '#1F1F1F';\n",
    "my $color-scheme = 'schemeTableau10';\n",
    "my $color-palette = 'Inferno';\n",
    "my $edge-thickness = 3;\n",
    "my $vertex-size = 6;\n",
    "my $mmd-theme = q:to/END/;\n",
    "%%{\n",
    "  init: {\n",
    "    'theme': 'forest',\n",
    "    'themeVariables': {\n",
    "      'lineColor': 'Ivory'\n",
    "    }\n",
    "  }\n",
    "}%%\n",
    "END\n",
    "my %force = collision => {iterations => 0, radius => 10},link => {distance => 180};\n",
    "my %force2 = charge => {strength => -30, iterations => 4}, collision => {radius => 50, iterations => 4}, link => {distance => 30};\n",
    "\n",
    "my %opts = :$background, :$title-color, :$edge-thickness, :$vertex-size;"
   ]
  },
  {
   "cell_type": "markdown",
   "id": "2fdd3a1e",
   "metadata": {},
   "source": [
    "----\n",
    "\n",
    "## Ingestion"
   ]
  },
  {
   "cell_type": "code",
   "execution_count": 27,
   "id": "99093c0d",
   "metadata": {},
   "outputs": [
    {
     "data": {
      "text/plain": [
       "(8124 24)"
      ]
     },
     "execution_count": 27,
     "metadata": {},
     "output_type": "execute_result"
    }
   ],
   "source": [
    "my $url = 'https://raw.githubusercontent.com/antononcube/MathematicaVsR/refs/heads/master/Data/MathematicaVsR-Data-Mushroom.csv';\n",
    "my @dsData = data-import($url, headers => 'auto');\n",
    "\n",
    "@dsData.&dimensions"
   ]
  },
  {
   "cell_type": "code",
   "execution_count": 28,
   "id": "48f03e52",
   "metadata": {},
   "outputs": [
    {
     "data": {
      "text/plain": [
       "Vector(Assoc(Atom((Str)), Atom((Str)), 24), 8124)"
      ]
     },
     "execution_count": 28,
     "metadata": {},
     "output_type": "execute_result"
    }
   ],
   "source": [
    "deduce-type(@dsData);"
   ]
  },
  {
   "cell_type": "markdown",
   "id": "cf2bd6d3",
   "metadata": {},
   "source": [
    "---\n",
    "\n",
    "## SMR"
   ]
  },
  {
   "cell_type": "code",
   "execution_count": 29,
   "id": "fe94711c",
   "metadata": {},
   "outputs": [
    {
     "data": {
      "text/plain": [
       "ML::SparseMatrixRecommender(:matrix-dimensions((8124, 51)), :density(<10/51>), :tag-types((\"gill-Size\", \"gill-Spacing\", \"cap-Shape\", \"gill-Attachment\", \"odor\", \"bruises?\", \"cap-Surface\", \"cap-Color\", \"edibility\", \"gill-Color\")))"
      ]
     },
     "execution_count": 29,
     "metadata": {},
     "output_type": "execute_result"
    }
   ],
   "source": [
    "my $smrObj = \n",
    "    ML::SparseMatrixRecommender.new\n",
    "    .create-from-wide-form(@dsData,\n",
    "        item-column-name => \"id\",\n",
    "        tag-types => [\"cap-Shape\", \"cap-Surface\", \"cap-Color\", \"bruises?\", \"odor\", \"gill-Attachment\", \"gill-Spacing\", \"gill-Size\", \"gill-Color\", \"edibility\"],\n",
    "        :add-tag-types-to-column-names,\n",
    "        tag-value-separator => \":\")\n",
    "    .apply-term-weight-functions(\"IDF\", \"None\", \"Cosine\")"
   ]
  },
  {
   "cell_type": "code",
   "execution_count": 32,
   "id": "7563bd54",
   "metadata": {},
   "outputs": [
    {
     "data": {
      "text/plain": [
       "Math::SparseMatrix(:specified-elements(3), :dimensions((51, 1)), :density(<1/17>))"
      ]
     },
     "execution_count": 32,
     "metadata": {},
     "output_type": "execute_result"
    }
   ],
   "source": [
    "my %prof = \"cap-Shape:convex\" => 1.2, \"cap-Color:gray\" => 1, \"edibility:poisonous\" => 1.4;\n",
    "\n",
    "my $profVec = $smrObj.to-profile-vector(%prof.Mix).to-adapted"
   ]
  },
  {
   "cell_type": "code",
   "execution_count": 34,
   "id": "34d9dc6f",
   "metadata": {},
   "outputs": [
    {
     "data": {
      "text/plain": [
       "[1817 => 1 2129 => 1 2179 => 1 2239 => 1 2386 => 1 2444 => 1 2534 => 1 2537 => 1 2540 => 1 2567 => 1 2572 => 1 2595 => 1]"
      ]
     },
     "execution_count": 34,
     "metadata": {},
     "output_type": "execute_result"
    }
   ],
   "source": [
    "$smrObj\n",
    ".recommend-by-profile({\"cap-Shape:convex\" => 1.2, \"cap-Color:gray\" => 1, \"edibility:poisonous\" => 1.4}, 12)\n",
    ".take-value"
   ]
  },
  {
   "cell_type": "code",
   "execution_count": 35,
   "id": "af69da7a",
   "metadata": {},
   "outputs": [
    {
     "data": {
      "text/html": [
       "<table border=\"1\"><thead><tr><th>score</th><th>id</th><th>bruises?</th><th>cap-Color</th><th>cap-Shape</th><th>cap-Surface</th><th>edibility</th><th>gill-Attachment</th><th>gill-Color</th><th>gill-Size</th><th>gill-Spacing</th><th>habitat</th><th>odor</th><th>population</th><th>ring-Number</th><th>ring-Type</th><th>spore-Print-Color</th><th>stalk-Color-Above-Ring</th><th>stalk-Color-Below-Ring</th><th>stalk-Root</th><th>stalk-Shape</th><th>stalk-Surface-Above-Ring</th><th>stalk-Surface-Below-Ring</th><th>veil-Color</th><th>veil-Type</th></tr></thead><tbody><tr><td>1</td><td>1817</td><td>False</td><td>gray</td><td>convex</td><td>fibrous</td><td>poisonous</td><td>free</td><td>chocolate</td><td>broad</td><td>close</td><td>grasses</td><td>foul</td><td>solitary</td><td>one</td><td>large</td><td>chocolate</td><td>brown</td><td>buff</td><td>bulbous</td><td>enlarging</td><td>silky</td><td>silky</td><td>white</td><td>partial</td></tr><tr><td>1</td><td>2129</td><td>False</td><td>gray</td><td>convex</td><td>fibrous</td><td>poisonous</td><td>free</td><td>pink</td><td>broad</td><td>close</td><td>grasses</td><td>foul</td><td>solitary</td><td>one</td><td>large</td><td>chocolate</td><td>buff</td><td>buff</td><td>bulbous</td><td>enlarging</td><td>silky</td><td>silky</td><td>white</td><td>partial</td></tr><tr><td>1</td><td>2179</td><td>False</td><td>gray</td><td>convex</td><td>fibrous</td><td>poisonous</td><td>free</td><td>pink</td><td>broad</td><td>close</td><td>woods</td><td>foul</td><td>solitary</td><td>one</td><td>large</td><td>chocolate</td><td>brown</td><td>pink</td><td>bulbous</td><td>enlarging</td><td>silky</td><td>silky</td><td>white</td><td>partial</td></tr><tr><td>1</td><td>2239</td><td>False</td><td>gray</td><td>convex</td><td>fibrous</td><td>poisonous</td><td>free</td><td>gray</td><td>broad</td><td>close</td><td>paths</td><td>foul</td><td>solitary</td><td>one</td><td>large</td><td>chocolate</td><td>buff</td><td>pink</td><td>bulbous</td><td>enlarging</td><td>silky</td><td>silky</td><td>white</td><td>partial</td></tr><tr><td>1</td><td>2386</td><td>False</td><td>gray</td><td>convex</td><td>fibrous</td><td>poisonous</td><td>free</td><td>chocolate</td><td>broad</td><td>close</td><td>woods</td><td>foul</td><td>solitary</td><td>one</td><td>large</td><td>chocolate</td><td>brown</td><td>brown</td><td>bulbous</td><td>enlarging</td><td>silky</td><td>silky</td><td>white</td><td>partial</td></tr><tr><td>1</td><td>2444</td><td>False</td><td>gray</td><td>convex</td><td>fibrous</td><td>poisonous</td><td>free</td><td>chocolate</td><td>broad</td><td>close</td><td>grasses</td><td>foul</td><td>solitary</td><td>one</td><td>large</td><td>chocolate</td><td>buff</td><td>buff</td><td>bulbous</td><td>enlarging</td><td>silky</td><td>silky</td><td>white</td><td>partial</td></tr><tr><td>1</td><td>2534</td><td>False</td><td>gray</td><td>convex</td><td>fibrous</td><td>poisonous</td><td>free</td><td>gray</td><td>broad</td><td>close</td><td>paths</td><td>foul</td><td>solitary</td><td>one</td><td>large</td><td>chocolate</td><td>brown</td><td>buff</td><td>bulbous</td><td>enlarging</td><td>silky</td><td>silky</td><td>white</td><td>partial</td></tr><tr><td>1</td><td>2537</td><td>False</td><td>gray</td><td>convex</td><td>fibrous</td><td>poisonous</td><td>free</td><td>chocolate</td><td>broad</td><td>close</td><td>woods</td><td>foul</td><td>several</td><td>one</td><td>large</td><td>chocolate</td><td>pink</td><td>buff</td><td>bulbous</td><td>enlarging</td><td>silky</td><td>silky</td><td>white</td><td>partial</td></tr><tr><td>1</td><td>2540</td><td>False</td><td>gray</td><td>convex</td><td>fibrous</td><td>poisonous</td><td>free</td><td>chocolate</td><td>broad</td><td>close</td><td>woods</td><td>foul</td><td>solitary</td><td>one</td><td>large</td><td>chocolate</td><td>buff</td><td>brown</td><td>bulbous</td><td>enlarging</td><td>silky</td><td>silky</td><td>white</td><td>partial</td></tr><tr><td>1</td><td>2567</td><td>False</td><td>gray</td><td>convex</td><td>fibrous</td><td>poisonous</td><td>free</td><td>pink</td><td>broad</td><td>close</td><td>woods</td><td>foul</td><td>solitary</td><td>one</td><td>large</td><td>chocolate</td><td>buff</td><td>pink</td><td>bulbous</td><td>enlarging</td><td>silky</td><td>silky</td><td>white</td><td>partial</td></tr><tr><td>1</td><td>2572</td><td>False</td><td>gray</td><td>convex</td><td>fibrous</td><td>poisonous</td><td>free</td><td>pink</td><td>broad</td><td>close</td><td>grasses</td><td>foul</td><td>several</td><td>one</td><td>large</td><td>chocolate</td><td>buff</td><td>pink</td><td>bulbous</td><td>enlarging</td><td>silky</td><td>silky</td><td>white</td><td>partial</td></tr><tr><td>1</td><td>2595</td><td>False</td><td>gray</td><td>convex</td><td>fibrous</td><td>poisonous</td><td>free</td><td>gray</td><td>broad</td><td>close</td><td>paths</td><td>foul</td><td>several</td><td>one</td><td>large</td><td>chocolate</td><td>buff</td><td>brown</td><td>bulbous</td><td>enlarging</td><td>silky</td><td>silky</td><td>white</td><td>partial</td></tr></tbody></table>"
      ]
     },
     "execution_count": 35,
     "metadata": {},
     "output_type": "execute_result"
    }
   ],
   "source": [
    "#% html\n",
    "my @field-names = 'score', 'id', |@dsData.head.keys.grep(* ne 'id').sort;\n",
    "$smrObj\n",
    ".recommend-by-profile({\"cap-Shape:convex\" => 1.2, \"cap-Color:gray\" => 1, \"edibility:poisonous\" => 1.4}, 12)\n",
    ".join-across(@dsData)\n",
    ".take-value\n",
    "==> to-html(:@field-names)   "
   ]
  },
  {
   "cell_type": "code",
   "execution_count": 37,
   "id": "b5a69e3f",
   "metadata": {},
   "outputs": [
    {
     "name": "stdout",
     "output_type": "stream",
     "text": [
      "[1817 => 19 2129 => 19 2179 => 19 2386 => 19 2444 => 19 2537 => 19 2540 => 19 2567 => 19 2572 => 19 2698 => 19]\n",
      "+-----------+------+------+-----------+---------+------------+\n",
      "|   score   |  id  | odor | edibility | habitat | population |\n",
      "+-----------+------+------+-----------+---------+------------+\n",
      "| 19.000000 | 1817 | foul | poisonous | grasses |  solitary  |\n",
      "| 19.000000 | 2129 | foul | poisonous | grasses |  solitary  |\n",
      "| 19.000000 | 2179 | foul | poisonous |  woods  |  solitary  |\n",
      "| 19.000000 | 2386 | foul | poisonous |  woods  |  solitary  |\n",
      "| 19.000000 | 2444 | foul | poisonous | grasses |  solitary  |\n",
      "| 19.000000 | 2537 | foul | poisonous |  woods  |  several   |\n",
      "| 19.000000 | 2540 | foul | poisonous |  woods  |  solitary  |\n",
      "| 19.000000 | 2567 | foul | poisonous |  woods  |  solitary  |\n",
      "| 19.000000 | 2572 | foul | poisonous | grasses |  several   |\n",
      "| 19.000000 | 2698 | foul | poisonous | grasses |  solitary  |\n",
      "+-----------+------+------+-----------+---------+------------+\n"
     ]
    }
   ],
   "source": [
    "#% html\n",
    "my @field-names = <score id odor edibility habitat population>;\n",
    "sink $smrObj\n",
    ".recommend(<2129 2540>, 10, :!remove-history)\n",
    ".echo-value\n",
    ".join-across(@dsData, on => 'id')\n",
    ".echo-value(as => {&to-pretty-table($_, :@field-names)});"
   ]
  },
  {
   "cell_type": "markdown",
   "id": "5f4e7771",
   "metadata": {},
   "source": [
    "---\n",
    "\n",
    "## Classification"
   ]
  },
  {
   "cell_type": "code",
   "execution_count": 43,
   "id": "4888c40c",
   "metadata": {},
   "outputs": [
    {
     "data": {
      "text/plain": [
       "+----------+--------+-----------+\n",
       "|          | edible | poisonous |\n",
       "+----------+--------+-----------+\n",
       "| almond   |  400   |           |\n",
       "| anise    |  400   |           |\n",
       "| creosote |        |    192    |\n",
       "| fishy    |        |    576    |\n",
       "| foul     |        |    2160   |\n",
       "| musty    |        |     36    |\n",
       "| none     |  3408  |    120    |\n",
       "| pungent  |        |    256    |\n",
       "| spicy    |        |    576    |\n",
       "+----------+--------+-----------+"
      ]
     },
     "execution_count": 43,
     "metadata": {},
     "output_type": "execute_result"
    }
   ],
   "source": [
    "cross-tabulate(@dsData, 'odor', 'edibility')\n",
    "==> to-pretty-table()"
   ]
  }
 ],
 "metadata": {
  "kernelspec": {
   "display_name": "RakuChatbook",
   "language": "raku",
   "name": "raku"
  },
  "language_info": {
   "file_extension": ".raku",
   "mimetype": "text/x-raku",
   "name": "raku",
   "version": "6.d"
  }
 },
 "nbformat": 4,
 "nbformat_minor": 5
}
