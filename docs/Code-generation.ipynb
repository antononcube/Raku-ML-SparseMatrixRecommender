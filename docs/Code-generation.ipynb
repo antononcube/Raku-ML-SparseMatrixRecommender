{
 "cells": [
  {
   "cell_type": "markdown",
   "id": "e2f36935",
   "metadata": {},
   "source": [
    "# Code generation for recommender workflows\n",
    "\n",
    "Anton Antonov  \n",
    "RakuForPrediction at WordPress   \n",
    "October 2025"
   ]
  },
  {
   "cell_type": "markdown",
   "id": "2b5777b8",
   "metadata": {},
   "source": [
    "----\n",
    "\n",
    "## Introduction"
   ]
  },
  {
   "cell_type": "markdown",
   "id": "b1e8010b",
   "metadata": {},
   "source": [
    "This notebook demonstrates several different ways to generate Raku code for the package \"ML::SparseMatrixRecommender\". Both grammar-based interpreters and LLM-based translators are utilized."
   ]
  },
  {
   "cell_type": "markdown",
   "id": "5806f075",
   "metadata": {},
   "source": [
    "----\n",
    "\n",
    "## Setup"
   ]
  },
  {
   "cell_type": "code",
   "execution_count": 108,
   "id": "6df02b76",
   "metadata": {},
   "outputs": [],
   "source": [
    "use Data::Reshapers;\n",
    "use Data::Importers;\n",
    "use Data::Summarizers;\n",
    "\n",
    "use DSL::Translators;\n",
    "use DSL::Examples;\n",
    "use ML::NLPTemplateEngine;\n",
    "\n",
    "use Math::SparseMatrix :ALL;\n",
    "use Math::SparseMatrix::DOK;\n",
    "use Math::SparseMatrix::Utilities;\n",
    "\n",
    "use ML::SparseMatrixRecommender;"
   ]
  },
  {
   "cell_type": "markdown",
   "id": "2fdd3a1e",
   "metadata": {},
   "source": [
    "----\n",
    "\n",
    "## Ingestion"
   ]
  },
  {
   "cell_type": "markdown",
   "id": "7259a89b",
   "metadata": {},
   "source": [
    "Ingest a Titanic data CSV file from the Web:"
   ]
  },
  {
   "cell_type": "code",
   "execution_count": 109,
   "id": "99093c0d",
   "metadata": {},
   "outputs": [
    {
     "data": {
      "text/plain": [
       "(1309 5)"
      ]
     },
     "execution_count": 109,
     "metadata": {},
     "output_type": "execute_result"
    }
   ],
   "source": [
    "my $url = 'https://raw.githubusercontent.com/antononcube/MathematicaVsR/refs/heads/master/Data/MathematicaVsR-Data-Titanic.csv';\n",
    "my @dsData = data-import($url, headers => 'auto');\n",
    "#@dsData .= map({ $_<id> = 'id.' ~ $_<id>; $_ });\n",
    "#@dsData .= map({ $_<passengerAge> = $_<passengerAge>.Int; $_ });\n",
    "@dsData.&dimensions"
   ]
  },
  {
   "cell_type": "markdown",
   "id": "a4773411",
   "metadata": {},
   "source": [
    "Show that the data is a list of maps:"
   ]
  },
  {
   "cell_type": "code",
   "execution_count": 110,
   "id": "48f03e52",
   "metadata": {},
   "outputs": [
    {
     "data": {
      "text/plain": [
       "Vector(Assoc(Atom((Str)), Atom((Str)), 5), 1309)"
      ]
     },
     "execution_count": 110,
     "metadata": {},
     "output_type": "execute_result"
    }
   ],
   "source": [
    "deduce-type(@dsData);"
   ]
  },
  {
   "cell_type": "markdown",
   "id": "cf2bd6d3",
   "metadata": {},
   "source": [
    "---\n",
    "\n",
    "## SMR"
   ]
  },
  {
   "cell_type": "markdown",
   "id": "b99bc2b0",
   "metadata": {},
   "source": [
    "Create a recommender object over Titanic data:"
   ]
  },
  {
   "cell_type": "code",
   "execution_count": 111,
   "id": "fe94711c",
   "metadata": {},
   "outputs": [
    {
     "data": {
      "text/plain": [
       "ML::SparseMatrixRecommender(:matrix-dimensions((1309, 17)), :density(<4/17>), :tag-types((\"passengerClass\", \"passengerSurvival\", \"passengerSex\", \"passengerAge\")))"
      ]
     },
     "execution_count": 111,
     "metadata": {},
     "output_type": "execute_result"
    }
   ],
   "source": [
    "my $smrObj = \n",
    "    ML::SparseMatrixRecommender.new\n",
    "    .create-from-wide-form(@dsData,\n",
    "        item-column-name => \"id\",\n",
    "        tag-types => <passengerSex passengerClass passengerAge passengerSurvival>,\n",
    "        :add-tag-types-to-column-names,\n",
    "        tag-value-separator => \":\")\n",
    "    .apply-term-weight-functions(\"IDF\", \"None\", \"Cosine\")"
   ]
  },
  {
   "cell_type": "markdown",
   "id": "ad7c2e54",
   "metadata": {},
   "source": [
    "Here is a profile-based recommendation pipeline:"
   ]
  },
  {
   "cell_type": "code",
   "execution_count": 112,
   "id": "af69da7a",
   "metadata": {},
   "outputs": [
    {
     "data": {
      "text/html": [
       "<table border=\"1\"><thead><tr><th>score</th><th>id</th><th>passengerAge</th><th>passengerClass</th><th>passengerSex</th><th>passengerSurvival</th></tr></thead><tbody><tr><td>1</td><td>1022</td><td>30</td><td>3rd</td><td>male</td><td>died</td></tr><tr><td>1</td><td>1032</td><td>30</td><td>3rd</td><td>male</td><td>died</td></tr><tr><td>1</td><td>1052</td><td>30</td><td>3rd</td><td>male</td><td>died</td></tr><tr><td>1</td><td>1060</td><td>30</td><td>3rd</td><td>male</td><td>died</td></tr><tr><td>1</td><td>1067</td><td>30</td><td>3rd</td><td>male</td><td>died</td></tr><tr><td>1</td><td>1084</td><td>30</td><td>3rd</td><td>male</td><td>died</td></tr><tr><td>1</td><td>1088</td><td>30</td><td>3rd</td><td>male</td><td>died</td></tr><tr><td>1</td><td>1089</td><td>30</td><td>3rd</td><td>male</td><td>survived</td></tr><tr><td>1</td><td>111</td><td>30</td><td>1st</td><td>male</td><td>died</td></tr><tr><td>1</td><td>1111</td><td>30</td><td>3rd</td><td>male</td><td>died</td></tr><tr><td>1</td><td>1132</td><td>30</td><td>3rd</td><td>male</td><td>survived</td></tr><tr><td>1</td><td>1197</td><td>30</td><td>3rd</td><td>male</td><td>survived</td></tr></tbody></table>"
      ]
     },
     "execution_count": 112,
     "metadata": {},
     "output_type": "execute_result"
    }
   ],
   "source": [
    "#% html\n",
    "my @field-names = 'score', 'id', |@dsData.head.keys.grep(* ne 'id').sort;\n",
    "$smrObj\n",
    ".recommend-by-profile({\"passengerSex:male\" => 1, \"passengerAge:30\" => 20}, 12)\n",
    ".join-across(@dsData)\n",
    ".take-value\n",
    "==> to-html(:@field-names)   "
   ]
  },
  {
   "cell_type": "code",
   "execution_count": 113,
   "id": "2624254c",
   "metadata": {},
   "outputs": [
    {
     "data": {
      "text/plain": [
       "(passengerClass passengerSurvival passengerSex passengerAge)"
      ]
     },
     "execution_count": 113,
     "metadata": {},
     "output_type": "execute_result"
    }
   ],
   "source": [
    "$smrObj.take-matrices.keys"
   ]
  },
  {
   "cell_type": "markdown",
   "id": "65604ebc",
   "metadata": {},
   "source": [
    "Here is a (history) recommendation pipeline:"
   ]
  },
  {
   "cell_type": "code",
   "execution_count": 114,
   "id": "b5a69e3f",
   "metadata": {},
   "outputs": [
    {
     "name": "stdout",
     "output_type": "stream",
     "text": [
      "[1089 => 8 1132 => 8 1197 => 8 1229 => 8 614 => 8 631 => 8 675 => 8 715 => 8 747 => 8 761 => 8]\n",
      "+----------+------+--------------+----------------+--------------+-------------------+\n",
      "|  score   |  id  | passengerAge | passengerClass | passengerSex | passengerSurvival |\n",
      "+----------+------+--------------+----------------+--------------+-------------------+\n",
      "| 8.000000 | 1089 |      30      |      3rd       |     male     |      survived     |\n",
      "| 8.000000 | 1132 |      30      |      3rd       |     male     |      survived     |\n",
      "| 8.000000 | 1197 |      30      |      3rd       |     male     |      survived     |\n",
      "| 8.000000 | 1229 |      30      |      3rd       |     male     |      survived     |\n",
      "| 8.000000 | 614  |      30      |      3rd       |     male     |      survived     |\n",
      "| 8.000000 | 631  |      30      |      3rd       |     male     |      survived     |\n",
      "| 8.000000 | 675  |      30      |      3rd       |     male     |      survived     |\n",
      "| 8.000000 | 715  |      30      |      3rd       |     male     |      survived     |\n",
      "| 8.000000 | 747  |      30      |      3rd       |     male     |      survived     |\n",
      "| 8.000000 | 761  |      30      |      3rd       |     male     |      survived     |\n",
      "+----------+------+--------------+----------------+--------------+-------------------+\n"
     ]
    }
   ],
   "source": [
    "#% html\n",
    "my @field-names = [|<score id>, |$smrObj.take-matrices.keys.sort];\n",
    "sink $smrObj\n",
    ".recommend(<1089 1132>, 10, :!remove-history)\n",
    ".echo-value\n",
    ".join-across(@dsData, on => 'id')\n",
    ".echo-value(as => {&to-pretty-table($_, :@field-names)});"
   ]
  },
  {
   "cell_type": "markdown",
   "id": "6fe99c4a",
   "metadata": {},
   "source": [
    "----\n",
    "\n",
    "## DSL translation (grammars, ProdGDT)"
   ]
  },
  {
   "cell_type": "markdown",
   "id": "f9402835",
   "metadata": {},
   "source": [
    "Here a recommender pipeline specified with natural language commands is translated into R code using the ProdGDT Web service:"
   ]
  },
  {
   "cell_type": "code",
   "execution_count": 115,
   "id": "acc87cb8",
   "metadata": {},
   "outputs": [
    {
     "data": {
      "text/plain": [
       "SMRMonCreate(data = @dsData) %>%\n",
       "SMRMonApplyTermWeightFunctions(globalWeightFunction = \"IDF\", localWeightFunction = \"None\", normalizerFunction = \"Cosine\") %>%\n",
       "SMRMonRecommendByProfile( profile = c(\"passengerSex:male\", \"passengerClass:1st\"))"
      ]
     },
     "execution_count": 115,
     "metadata": {},
     "output_type": "execute_result"
    }
   ],
   "source": [
    "'\n",
    "create from @dsData; \n",
    "apply LSI functions IDF, None, Cosine; \n",
    "recommend by profile for passengerSex:male, and passengerClass:1st\n",
    "'\n",
    "==> dsl-web-translation(to => 'R', format => 'CODE')"
   ]
  },
  {
   "cell_type": "markdown",
   "id": "8ed86751",
   "metadata": {},
   "source": [
    "Here is similar pipeline is translated with a sub of the package \"DSL::Translators\":"
   ]
  },
  {
   "cell_type": "code",
   "execution_count": 116,
   "id": "510c44f1",
   "metadata": {},
   "outputs": [
    {
     "data": {
      "text/plain": [
       "my $obj = ML::SparseMatrixRecommender\n",
       ".new\n",
       ".create-from-wide-form(@dsData)\n",
       ".apply-term-weight-functions(global-weight-func => \"IDF\", local-weight-func => \"None\", normalizer-func => \"Cosine\")\n",
       ".recommend-by-profile([\"passengerSex:male\", \"passengerClass:1st\"])\n",
       ".join-across(@dsData, on => \"id\" )\n",
       ".echo-value()"
      ]
     },
     "execution_count": 116,
     "metadata": {},
     "output_type": "execute_result"
    }
   ],
   "source": [
    "'\n",
    "create from @dsData; \n",
    "apply LSI functions IDF, None, Cosine; \n",
    "recommend by profile for passengerSex:male, and passengerClass:1st;\n",
    "join across with @dsData on \"id\";\n",
    "echo the pipeline value\n",
    "'\n",
    "==> ToDSLCode(to => 'Raku', format => 'CODE')\n",
    "==> {.subst('.', \"\\n.\"):g}()"
   ]
  },
  {
   "cell_type": "markdown",
   "id": "fb4e7e2b",
   "metadata": {},
   "source": [
    "----\n",
    "\n",
    "## DSL Translation (LLM examples)"
   ]
  },
  {
   "cell_type": "markdown",
   "id": "2fe272bc",
   "metadata": {},
   "source": [
    "Show known DSL translation examples in \"DSL::Examples\":"
   ]
  },
  {
   "cell_type": "code",
   "execution_count": 117,
   "id": "73938735",
   "metadata": {},
   "outputs": [
    {
     "data": {
      "text/html": [
       "<table border=\"1\"><thead><tr><th>language</th><th>workflow</th></tr></thead><tbody><tr><td>Python</td><td>LSAMon</td></tr><tr><td>Python</td><td>QRMon</td></tr><tr><td>Python</td><td>SMRMon</td></tr><tr><td>R</td><td>LSAMon</td></tr><tr><td>R</td><td>QRMon</td></tr><tr><td>R</td><td>SMRMon</td></tr><tr><td>Raku</td><td>SMRMon</td></tr><tr><td>WL</td><td>ClCon</td></tr><tr><td>WL</td><td>LSAMon</td></tr><tr><td>WL</td><td>QRMon</td></tr><tr><td>WL</td><td>SMRMon</td></tr></tbody></table>"
      ]
     },
     "execution_count": 117,
     "metadata": {},
     "output_type": "execute_result"
    }
   ],
   "source": [
    "#% html\n",
    "dsl-examples().map({ $_.key X $_.value.keys }).flat(1).map({ <language workflow> Z=> $_ })».Hash.sort.Array\n",
    "==> to-dataset()\n",
    "==> to-html(field-names => <language workflow>)"
   ]
  },
  {
   "cell_type": "markdown",
   "id": "2eb91ed5",
   "metadata": {},
   "source": [
    "Define an LLM translation function:"
   ]
  },
  {
   "cell_type": "code",
   "execution_count": 118,
   "id": "34a36776",
   "metadata": {},
   "outputs": [
    {
     "data": {
      "text/plain": [
       "LLM::Function(-> **@args, *%args { #`(Block|6267625434568) ... }, 'chatgpt')"
      ]
     },
     "execution_count": 118,
     "metadata": {},
     "output_type": "execute_result"
    }
   ],
   "source": [
    "my &llm-pipeline-segment = llm-example-function(dsl-examples()<Raku><SMRMon>);"
   ]
  },
  {
   "cell_type": "markdown",
   "id": "faecf239",
   "metadata": {},
   "source": [
    "Here is a recommender pipeline specified with natural language commands:"
   ]
  },
  {
   "cell_type": "code",
   "execution_count": 119,
   "id": "dc28f5af",
   "metadata": {},
   "outputs": [],
   "source": [
    "my $spec = q:to/END/;\n",
    "new recommender;\n",
    "create from @dsData; \n",
    "apply LSI functions IDF, None, Cosine; \n",
    "recommend by profile for passengerSex:male, and passengerClass:1st;\n",
    "join across with @dsData on \"id\";\n",
    "echo the pipeline value;\n",
    "classify by profile passengerSex:female, and passengerClass:1st on the tag passengerSurvival;\n",
    "echo value\n",
    "END\n",
    "\n",
    "sink my @commands = $spec.lines;"
   ]
  },
  {
   "cell_type": "markdown",
   "id": "13cea965",
   "metadata": {},
   "source": [
    "Translate to Raku code:"
   ]
  },
  {
   "cell_type": "code",
   "execution_count": 120,
   "id": "a38fc3d4",
   "metadata": {},
   "outputs": [
    {
     "data": {
      "text/plain": [
       "ML::SparseMatrixRecommender.new\n",
       ".create(@dsData)\n",
       ".apply-term-weight-functions('IDF', 'None', 'Cosine')\n",
       ".recommend-by-profile({'passengerSex' => 'male', 'passengerClass' => '1st'})\n",
       ".join-across(@dsData, on => 'id')\n",
       ".echo-value()\n",
       ".classify-by-profile({'passengerSex.female', 'passengerClass.1st'}, 'passengerSurvival')\n",
       ".echo-value()"
      ]
     },
     "execution_count": 120,
     "metadata": {},
     "output_type": "execute_result"
    }
   ],
   "source": [
    "@commands\n",
    ".map({ .&llm-pipeline-segment })\n",
    ".map({ .subst(/:i Output \\h* ':'?/, :g).trim })\n",
    ".join(\"\\n.\")"
   ]
  },
  {
   "cell_type": "markdown",
   "id": "0010b8d0",
   "metadata": {},
   "source": [
    "Or just calling directly on `$spec`:"
   ]
  },
  {
   "cell_type": "code",
   "execution_count": 121,
   "id": "661c6779",
   "metadata": {},
   "outputs": [
    {
     "data": {
      "text/plain": [
       "ML::SparseMatrixRecommender.new;\n",
       "create(@dsData);\n",
       "apply-term-weight-functions('IDF', 'None', 'Cosine');\n",
       "recommend-by-profile({'passengerSex' => 'male', 'passengerClass' => '1st'});\n",
       "join-across(@dsData, on => 'id');\n",
       "echo-value();\n",
       "classify-by-profile('passengerSurvival', {'passengerSex' => 'female', 'passengerClass' => '1st'});\n",
       "echo-value()"
      ]
     },
     "execution_count": 121,
     "metadata": {},
     "output_type": "execute_result"
    }
   ],
   "source": [
    "&llm-pipeline-segment($spec)"
   ]
  },
  {
   "cell_type": "markdown",
   "id": "a72111ac",
   "metadata": {},
   "source": [
    "----\n",
    "\n",
    "## NLP Template Engine"
   ]
  },
  {
   "cell_type": "markdown",
   "id": "fbcb0887",
   "metadata": {},
   "source": [
    "Translated \"free text\" recommender pipeline specification using `concretize` of \"ML::NLPTemplateEngine\":"
   ]
  },
  {
   "cell_type": "code",
   "execution_count": 122,
   "id": "ac54fd20",
   "metadata": {},
   "outputs": [
    {
     "data": {
      "text/plain": [
       "my $smrObj = ML::SparseMatrixRecommender.new\n",
       ".create-from-wide-form([\"male\"]set, item-column-name='id', :add-tag-types-to-column-names, tag-value-separator=':')\n",
       ".apply-term-weight-functions('IDF', 'None', 'Cosine')\n",
       ".recommend-by-profile([\"1st\"], 12, :!normalize)\n",
       ".join-across([\"male\"]set)\n",
       ".echo-value();"
      ]
     },
     "execution_count": 122,
     "metadata": {},
     "output_type": "execute_result"
    }
   ],
   "source": [
    "'create with dfTitanic; apply the LSI functions IDF, None, Cosine;recommend by profile 1st and male'\n",
    "==> concretize(lang => \"Raku\")\n"
   ]
  },
  {
   "cell_type": "markdown",
   "id": "001c1209",
   "metadata": {},
   "source": [
    "-----\n",
    "\n",
    "## LLM graph\n"
   ]
  },
  {
   "cell_type": "markdown",
   "id": "1f1f506e",
   "metadata": {},
   "source": [
    "Making of an LLM graph that:\n",
    "- Tries all three translation methods above.\n",
    "- If the DSL grammar-based method does not work then the LLM-based ones are tried.\n",
    "- The LLM methods are tried in parallel.\n",
    "- There is a judge that picks which on of the LLM methods produced better result.    "
   ]
  },
  {
   "cell_type": "code",
   "execution_count": 177,
   "id": "02d327d7",
   "metadata": {},
   "outputs": [
    {
     "data": {
      "text/plain": [
       "LLM::Graph(size => 5, nodes => dsl-grammar, judge, llm-examples, nlp-template-engine, report)"
      ]
     },
     "execution_count": 177,
     "metadata": {},
     "output_type": "execute_result"
    }
   ],
   "source": [
    "my %rules =\n",
    "    dsl-grammar => { \n",
    "        eval-function => sub ($spec, $lang = 'Raku') { ToDSLCode($spec, to => $lang, format => 'CODE') }\n",
    "    },\n",
    "\n",
    "    llm-examples => { \n",
    "        llm-function => \n",
    "            sub ($spec, $lang = 'Raku') { \n",
    "                my &llm-pipeline-segment = llm-example-function(dsl-examples(){$lang}<SMRMon>);\n",
    "                my @commands = $spec.lines;\n",
    "                @commands.map({ .&llm-pipeline-segment }).map({ .subst(/:i Output \\h* ':'?/, :g).trim }).join(\"\\n.\")\n",
    "            }\n",
    "    },\n",
    "\n",
    "    nlp-template-engine => {\n",
    "        llm-function => sub ($spec, $lang = 'Raku') { concretize($spec, :$lang) }\n",
    "    },\n",
    "\n",
    "    judge => sub ($spec, $lang, $dsl-grammar, $llm-examples, $nlp-template-engine) {\n",
    "            [\n",
    "                \"Choose the generated code that must fully adheres to the spec:\\n\",\n",
    "                $spec,\n",
    "                \"\\nfrom the following $lang generation results:\\n\\n\",\n",
    "                \"1) DSL-grammar:\\n$dsl-grammar\\n\",\n",
    "                \"2) LLM-examples:\\n$llm-examples\\n\",\n",
    "                \"3) NLP-template-engine:\\n$nlp-template-engine\\n\",\n",
    "                \"and copy it:\"\n",
    "            ].join(\"\\n\\n\")\n",
    "    },\n",
    "    \n",
    "    report => {\n",
    "            eval-function => sub ($spec, $lang, $dsl-grammar, $llm-examples, $nlp-template-engine, $judge) {\n",
    "                [\n",
    "                    '# Best generated code',\n",
    "                    \"Three $lang code generations were submitted for the spec:\",\n",
    "                    '```text',\n",
    "                    $spec,\n",
    "                    '```',\n",
    "                    'Here are the results:',\n",
    "                    to-html( ['dsl-grammar', 'llm-examples', 'nlp-template-engine'].map({ [ name => $_, code => ::('$' ~ $_)] })».Hash.Array, field-names => <name code> ).subst(\"\\n\", '<br/>'):g,\n",
    "                    '## Judgement',\n",
    "                    $judge\n",
    "                ].join(\"\\n\\n\")\n",
    "            }\n",
    "    }        \n",
    ";\n",
    "\n",
    "my $gBestCode = LLM::Graph.new(%rules)"
   ]
  },
  {
   "cell_type": "code",
   "execution_count": 248,
   "id": "27c08e29",
   "metadata": {},
   "outputs": [
    {
     "data": {
      "text/plain": [
       "LLM::Graph(size => 5, nodes => dsl-grammar, judge, llm-examples, nlp-template-engine, report)"
      ]
     },
     "execution_count": 248,
     "metadata": {},
     "output_type": "execute_result"
    }
   ],
   "source": [
    "my $spec = q:to/END/;\n",
    "make a brand new recommender with the data @dsData;\n",
    "apply LSI functions IDF, None, Cosine; \n",
    "recommend by profile for passengerSex:male, and passengerClass:1st;\n",
    "join across with @dsData on \"id\";\n",
    "echo the pipeline value;\n",
    "END\n",
    "\n",
    "$gBestCode.eval(:$spec, lang => 'Raku')"
   ]
  },
  {
   "cell_type": "code",
   "execution_count": 249,
   "id": "30b38797",
   "metadata": {},
   "outputs": [
    {
     "data": {
      "text/markdown": [
       "# Best generated code\n",
       "\n",
       "Three Raku code generations were submitted for the spec:\n",
       "\n",
       "```text\n",
       "\n",
       "make a brand new recommender with the data @dsData;\n",
       "apply LSI functions IDF, None, Cosine; \n",
       "recommend by profile for passengerSex:male, and passengerClass:1st;\n",
       "join across with @dsData on \"id\";\n",
       "echo the pipeline value;\n",
       "\n",
       "\n",
       "```\n",
       "\n",
       "Here are the results:\n",
       "\n",
       "<table border=\"1\"><thead><tr><th>name</th><th>code</th></tr></thead><tbody><tr><td>dsl-grammar</td><td></td></tr><tr><td>llm-examples</td><td>ML::SparseMatrixRecommender.new(@dsData)<br/>.apply-term-weight-functions(&#39;IDF&#39;, &#39;None&#39;, &#39;Cosine&#39;)<br/>.recommend-by-profile({&#39;passengerSex.male&#39; =&gt; 1, &#39;passengerClass.1st&#39; =&gt; 1})<br/>.join-across(@dsData, on =&gt; &#39;id&#39;)<br/>.echo-value()</td></tr><tr><td>nlp-template-engine</td><td>my $smrObj = ML::SparseMatrixRecommender.new<br/>.create-from-wide-form([&quot;passengerSex:male&quot;, &quot;passengerClass:1st&quot;]set, item-column-name=&#39;id&#39;, :add-tag-types-to-column-names, tag-value-separator=&#39;:&#39;)<br/>.apply-term-weight-functions(&#39;IDF&#39;, &#39;None&#39;, &#39;Cosine&#39;)<br/>.recommend-by-profile([&quot;passengerSex:male&quot;, &quot;passengerClass:1st&quot;], 12, :!normalize)<br/>.join-across([&quot;passengerSex:male&quot;, &quot;passengerClass:1st&quot;]set)<br/>.echo-value();</td></tr></tbody></table>\n",
       "\n",
       "## Judgement\n",
       "\n",
       "ML::SparseMatrixRecommender.new(@dsData)\n",
       ".apply-term-weight-functions('IDF', 'None', 'Cosine')\n",
       ".recommend-by-profile({'passengerSex.male' => 1, 'passengerClass.1st' => 1})\n",
       ".join-across(@dsData, on => 'id')\n",
       ".echo-value()"
      ]
     },
     "execution_count": 249,
     "metadata": {},
     "output_type": "execute_result"
    }
   ],
   "source": [
    "#% markdown\n",
    "$gBestCode.nodes<report><result>"
   ]
  },
  {
   "cell_type": "markdown",
   "id": "eecdb65c",
   "metadata": {},
   "source": [
    "### Graph"
   ]
  },
  {
   "cell_type": "code",
   "execution_count": 174,
   "id": "fe181cf5",
   "metadata": {},
   "outputs": [
    {
     "data": {
      "text/html": [
       "<?xml version=\"1.0\" encoding=\"UTF-8\" standalone=\"no\"?>\n",
       "<!DOCTYPE svg PUBLIC \"-//W3C//DTD SVG 1.1//EN\"\n",
       " \"http://www.w3.org/Graphics/SVG/1.1/DTD/svg11.dtd\">\n",
       "<!-- Generated by graphviz version 14.0.0 (20250921.2048)\n",
       " -->\n",
       "<!-- Pages: 1 -->\n",
       "<svg width=\"648pt\" height=\"285pt\"\n",
       " viewBox=\"0.00 0.00 648.00 285.00\" xmlns=\"http://www.w3.org/2000/svg\" xmlns:xlink=\"http://www.w3.org/1999/xlink\">\n",
       "<g id=\"graph0\" class=\"graph\" transform=\"scale(1.40862 1.40862) rotate(0) translate(4 198.4)\">\n",
       "<polygon fill=\"none\" stroke=\"none\" points=\"-4,4 -4,-198.4 456.02,-198.4 456.02,4 -4,4\"/>\n",
       "<g id=\"clust1\" class=\"cluster\">\n",
       "<title>judge_Cluster</title>\n",
       "<polygon fill=\"none\" stroke=\"grey\" stroke-dasharray=\"5,2\" points=\"137.17,-49.6 137.17,-87.2 275.17,-87.2 275.17,-49.6 137.17,-49.6\"/>\n",
       "</g>\n",
       "<!-- dsl&#45;grammar -->\n",
       "<g id=\"node1\" class=\"node\">\n",
       "<title>dsl&#45;grammar</title>\n",
       "<polygon fill=\"SteelBlue\" stroke=\"grey\" points=\"143.37,-136.8 20.97,-136.8 20.97,-115.2 143.37,-115.2 143.37,-136.8\"/>\n",
       "<text xml:space=\"preserve\" text-anchor=\"middle\" x=\"82.17\" y=\"-121.72\" font-family=\"Times,serif\" font-size=\"12.00\" fill=\"White\">dsl&#45;grammar</text>\n",
       "</g>\n",
       "<!-- judge -->\n",
       "<g id=\"node2\" class=\"node\">\n",
       "<title>judge</title>\n",
       "<ellipse fill=\"SteelBlue\" stroke=\"grey\" cx=\"206.17\" cy=\"-68.4\" rx=\"61.2\" ry=\"10.8\"/>\n",
       "<text xml:space=\"preserve\" text-anchor=\"middle\" x=\"206.17\" y=\"-64.12\" font-family=\"Times,serif\" font-size=\"12.00\" fill=\"White\">judge</text>\n",
       "</g>\n",
       "<!-- dsl&#45;grammar&#45;&gt;judge -->\n",
       "<g id=\"edge12\" class=\"edge\">\n",
       "<title>dsl&#45;grammar&#45;&gt;judge</title>\n",
       "<path fill=\"none\" stroke=\"grey\" stroke-width=\"0.4\" d=\"M104.91,-114.8C124.68,-105.94 153.48,-93.02 175.32,-83.23\"/>\n",
       "<polygon fill=\"grey\" stroke=\"grey\" stroke-width=\"0.4\" points=\"176.57,-86.51 184.26,-79.22 173.7,-80.12 176.57,-86.51\"/>\n",
       "</g>\n",
       "<!-- report -->\n",
       "<g id=\"node6\" class=\"node\">\n",
       "<title>report</title>\n",
       "<polygon fill=\"SteelBlue\" stroke=\"grey\" points=\"311.37,-21.6 188.97,-21.6 188.97,0 311.37,0 311.37,-21.6\"/>\n",
       "<text xml:space=\"preserve\" text-anchor=\"middle\" x=\"250.17\" y=\"-6.52\" font-family=\"Times,serif\" font-size=\"12.00\" fill=\"White\">report</text>\n",
       "</g>\n",
       "<!-- dsl&#45;grammar&#45;&gt;report -->\n",
       "<g id=\"edge11\" class=\"edge\">\n",
       "<title>dsl&#45;grammar&#45;&gt;report</title>\n",
       "<path fill=\"none\" stroke=\"grey\" stroke-width=\"0.4\" d=\"M86.37,-114.87C93.57,-98.72 109.79,-67.16 133.17,-49.6 147.79,-38.61 165.73,-30.75 183.13,-25.14\"/>\n",
       "<polygon fill=\"grey\" stroke=\"grey\" stroke-width=\"0.4\" points=\"184.13,-28.5 192.7,-22.27 182.12,-21.79 184.13,-28.5\"/>\n",
       "</g>\n",
       "<!-- judge&#45;&gt;report -->\n",
       "<g id=\"edge13\" class=\"edge\">\n",
       "<title>judge&#45;&gt;report</title>\n",
       "<path fill=\"none\" stroke=\"grey\" stroke-width=\"0.4\" d=\"M214.24,-57.2C220.25,-49.6 228.63,-39.01 235.78,-29.98\"/>\n",
       "<polygon fill=\"grey\" stroke=\"grey\" stroke-width=\"0.4\" points=\"238.31,-32.42 241.77,-22.41 232.82,-28.08 238.31,-32.42\"/>\n",
       "</g>\n",
       "<!-- lang -->\n",
       "<g id=\"node3\" class=\"node\">\n",
       "<title>lang</title>\n",
       "<polygon fill=\"SteelBlue\" stroke=\"grey\" points=\"145.62,-194.4 44.68,-194.4 18.72,-172.8 119.65,-172.8 145.62,-194.4\"/>\n",
       "<text xml:space=\"preserve\" text-anchor=\"middle\" x=\"82.17\" y=\"-179.32\" font-family=\"Times,serif\" font-size=\"12.00\" fill=\"White\">lang</text>\n",
       "</g>\n",
       "<!-- lang&#45;&gt;dsl&#45;grammar -->\n",
       "<g id=\"edge5\" class=\"edge\">\n",
       "<title>lang&#45;&gt;dsl&#45;grammar</title>\n",
       "<path fill=\"none\" stroke=\"grey\" stroke-width=\"0.4\" d=\"M82.17,-172.4C82.17,-165.51 82.17,-156.15 82.17,-147.73\"/>\n",
       "<polygon fill=\"grey\" stroke=\"grey\" stroke-width=\"0.4\" points=\"85.67,-147.74 82.17,-137.74 78.67,-147.74 85.67,-147.74\"/>\n",
       "</g>\n",
       "<!-- lang&#45;&gt;judge -->\n",
       "<g id=\"edge2\" class=\"edge\">\n",
       "<title>lang&#45;&gt;judge</title>\n",
       "<path fill=\"none\" stroke=\"grey\" stroke-width=\"0.4\" d=\"M57.75,-172.51C31.08,-160.03 -5.63,-137.69 12.17,-115.2 28.46,-94.62 93.57,-82.34 143.92,-75.76\"/>\n",
       "<polygon fill=\"grey\" stroke=\"grey\" stroke-width=\"0.4\" points=\"144.33,-79.24 153.82,-74.52 143.46,-72.29 144.33,-79.24\"/>\n",
       "</g>\n",
       "<!-- llm&#45;examples -->\n",
       "<g id=\"node4\" class=\"node\">\n",
       "<title>llm&#45;examples</title>\n",
       "<ellipse fill=\"SteelBlue\" stroke=\"grey\" cx=\"222.17\" cy=\"-126\" rx=\"61.2\" ry=\"10.8\"/>\n",
       "<text xml:space=\"preserve\" text-anchor=\"middle\" x=\"222.17\" y=\"-121.72\" font-family=\"Times,serif\" font-size=\"12.00\" fill=\"White\">llm&#45;examples</text>\n",
       "</g>\n",
       "<!-- lang&#45;&gt;llm&#45;examples -->\n",
       "<g id=\"edge4\" class=\"edge\">\n",
       "<title>lang&#45;&gt;llm&#45;examples</title>\n",
       "<path fill=\"none\" stroke=\"grey\" stroke-width=\"0.4\" d=\"M107.84,-172.4C130.6,-163.36 163.97,-150.11 188.79,-140.25\"/>\n",
       "<polygon fill=\"grey\" stroke=\"grey\" stroke-width=\"0.4\" points=\"189.95,-143.56 197.95,-136.62 187.37,-137.05 189.95,-143.56\"/>\n",
       "</g>\n",
       "<!-- nlp&#45;template&#45;engine -->\n",
       "<g id=\"node5\" class=\"node\">\n",
       "<title>nlp&#45;template&#45;engine</title>\n",
       "<ellipse fill=\"SteelBlue\" stroke=\"grey\" cx=\"362.17\" cy=\"-126\" rx=\"61.2\" ry=\"10.8\"/>\n",
       "<text xml:space=\"preserve\" text-anchor=\"middle\" x=\"362.17\" y=\"-121.72\" font-family=\"Times,serif\" font-size=\"12.00\" fill=\"White\">nlp&#45;template&#45;engine</text>\n",
       "</g>\n",
       "<!-- lang&#45;&gt;nlp&#45;template&#45;engine -->\n",
       "<g id=\"edge3\" class=\"edge\">\n",
       "<title>lang&#45;&gt;nlp&#45;template&#45;engine</title>\n",
       "<path fill=\"none\" stroke=\"grey\" stroke-width=\"0.4\" d=\"M122.28,-174.63C172.61,-164.64 258.87,-147.51 313.08,-136.75\"/>\n",
       "<polygon fill=\"grey\" stroke=\"grey\" stroke-width=\"0.4\" points=\"313.75,-140.18 322.88,-134.8 312.39,-133.32 313.75,-140.18\"/>\n",
       "</g>\n",
       "<!-- lang&#45;&gt;report -->\n",
       "<g id=\"edge1\" class=\"edge\">\n",
       "<title>lang&#45;&gt;report</title>\n",
       "<path fill=\"none\" stroke=\"grey\" stroke-width=\"0.4\" d=\"M52.32,-172.38C24.67,-161.08 -10.3,-141.02 3.17,-115.2 36.04,-52.18 117.76,-27.55 178.25,-17.94\"/>\n",
       "<polygon fill=\"grey\" stroke=\"grey\" stroke-width=\"0.4\" points=\"178.54,-21.43 187.92,-16.5 177.52,-14.51 178.54,-21.43\"/>\n",
       "</g>\n",
       "<!-- llm&#45;examples&#45;&gt;judge -->\n",
       "<g id=\"edge14\" class=\"edge\">\n",
       "<title>llm&#45;examples&#45;&gt;judge</title>\n",
       "<path fill=\"none\" stroke=\"grey\" stroke-width=\"0.4\" d=\"M219.23,-114.8C217.2,-107.75 214.43,-98.13 211.97,-89.56\"/>\n",
       "<polygon fill=\"grey\" stroke=\"grey\" stroke-width=\"0.4\" points=\"215.38,-88.76 209.25,-80.12 208.65,-90.69 215.38,-88.76\"/>\n",
       "</g>\n",
       "<!-- llm&#45;examples&#45;&gt;report -->\n",
       "<g id=\"edge15\" class=\"edge\">\n",
       "<title>llm&#45;examples&#45;&gt;report</title>\n",
       "<path fill=\"none\" stroke=\"grey\" stroke-width=\"0.4\" d=\"M246.15,-115.71C258.39,-109.6 272.15,-100.28 279.17,-87.2 287.07,-72.48 284.54,-65.42 279.17,-49.6 276.74,-42.44 272.35,-35.58 267.71,-29.71\"/>\n",
       "<polygon fill=\"grey\" stroke=\"grey\" stroke-width=\"0.4\" points=\"270.52,-27.62 261.32,-22.37 265.24,-32.21 270.52,-27.62\"/>\n",
       "</g>\n",
       "<!-- nlp&#45;template&#45;engine&#45;&gt;judge -->\n",
       "<g id=\"edge17\" class=\"edge\">\n",
       "<title>nlp&#45;template&#45;engine&#45;&gt;judge</title>\n",
       "<path fill=\"none\" stroke=\"grey\" stroke-width=\"0.4\" d=\"M336.41,-115.82C310.55,-106.6 270.52,-92.34 241.66,-82.05\"/>\n",
       "<polygon fill=\"grey\" stroke=\"grey\" stroke-width=\"0.4\" points=\"243.13,-78.86 232.54,-78.8 240.78,-85.45 243.13,-78.86\"/>\n",
       "</g>\n",
       "<!-- nlp&#45;template&#45;engine&#45;&gt;report -->\n",
       "<g id=\"edge16\" class=\"edge\">\n",
       "<title>nlp&#45;template&#45;engine&#45;&gt;report</title>\n",
       "<path fill=\"none\" stroke=\"grey\" stroke-width=\"0.4\" d=\"M354.51,-115.27C342.67,-100.45 318.9,-71.64 296.17,-49.6 288.54,-42.2 279.61,-34.65 271.67,-28.26\"/>\n",
       "<polygon fill=\"grey\" stroke=\"grey\" stroke-width=\"0.4\" points=\"274.03,-25.67 264.02,-22.22 269.7,-31.16 274.03,-25.67\"/>\n",
       "</g>\n",
       "<!-- spec -->\n",
       "<g id=\"node7\" class=\"node\">\n",
       "<title>spec</title>\n",
       "<polygon fill=\"SteelBlue\" stroke=\"grey\" points=\"425.62,-194.4 324.68,-194.4 298.72,-172.8 399.65,-172.8 425.62,-194.4\"/>\n",
       "<text xml:space=\"preserve\" text-anchor=\"middle\" x=\"362.17\" y=\"-179.32\" font-family=\"Times,serif\" font-size=\"12.00\" fill=\"White\">spec</text>\n",
       "</g>\n",
       "<!-- spec&#45;&gt;dsl&#45;grammar -->\n",
       "<g id=\"edge9\" class=\"edge\">\n",
       "<title>spec&#45;&gt;dsl&#45;grammar</title>\n",
       "<path fill=\"none\" stroke=\"grey\" stroke-width=\"0.4\" d=\"M310.48,-172.34C263.57,-163.02 194.3,-149.27 144.37,-139.35\"/>\n",
       "<polygon fill=\"grey\" stroke=\"grey\" stroke-width=\"0.4\" points=\"145.11,-135.93 134.62,-137.41 143.74,-142.8 145.11,-135.93\"/>\n",
       "</g>\n",
       "<!-- spec&#45;&gt;judge -->\n",
       "<g id=\"edge8\" class=\"edge\">\n",
       "<title>spec&#45;&gt;judge</title>\n",
       "<path fill=\"none\" stroke=\"grey\" stroke-width=\"0.4\" d=\"M386.7,-172.41C413.5,-159.84 450.32,-137.4 432.17,-115.2 412.32,-90.93 332.19,-79.22 272.95,-73.78\"/>\n",
       "<polygon fill=\"grey\" stroke=\"grey\" stroke-width=\"0.4\" points=\"273.4,-70.3 263.13,-72.92 272.79,-77.28 273.4,-70.3\"/>\n",
       "</g>\n",
       "<!-- spec&#45;&gt;llm&#45;examples -->\n",
       "<g id=\"edge7\" class=\"edge\">\n",
       "<title>spec&#45;&gt;llm&#45;examples</title>\n",
       "<path fill=\"none\" stroke=\"grey\" stroke-width=\"0.4\" d=\"M336.49,-172.4C313.73,-163.36 280.36,-150.11 255.54,-140.25\"/>\n",
       "<polygon fill=\"grey\" stroke=\"grey\" stroke-width=\"0.4\" points=\"256.97,-137.05 246.38,-136.62 254.38,-143.56 256.97,-137.05\"/>\n",
       "</g>\n",
       "<!-- spec&#45;&gt;nlp&#45;template&#45;engine -->\n",
       "<g id=\"edge10\" class=\"edge\">\n",
       "<title>spec&#45;&gt;nlp&#45;template&#45;engine</title>\n",
       "<path fill=\"none\" stroke=\"grey\" stroke-width=\"0.4\" d=\"M362.17,-172.4C362.17,-165.51 362.17,-156.15 362.17,-147.73\"/>\n",
       "<polygon fill=\"grey\" stroke=\"grey\" stroke-width=\"0.4\" points=\"365.67,-147.74 362.17,-137.74 358.67,-147.74 365.67,-147.74\"/>\n",
       "</g>\n",
       "<!-- spec&#45;&gt;report -->\n",
       "<g id=\"edge6\" class=\"edge\">\n",
       "<title>spec&#45;&gt;report</title>\n",
       "<path fill=\"none\" stroke=\"grey\" stroke-width=\"0.4\" d=\"M395.64,-172.38C425.98,-161.21 463.74,-141.36 448.17,-115.2 418.59,-65.53 356.33,-38.65 309.47,-24.85\"/>\n",
       "<polygon fill=\"grey\" stroke=\"grey\" stroke-width=\"0.4\" points=\"310.58,-21.53 300.01,-22.19 308.68,-28.27 310.58,-21.53\"/>\n",
       "</g>\n",
       "</g>\n",
       "</svg>\n"
      ]
     },
     "execution_count": 174,
     "metadata": {},
     "output_type": "execute_result"
    }
   ],
   "source": [
    "#% html\n",
    "$gBestCode.dot(engine => 'dot', :9graph-size, node-width => 1.7, node-color => 'grey', edge-color => 'grey', edge-width => 0.4, theme => 'default'):svg"
   ]
  },
  {
   "cell_type": "markdown",
   "id": "59575620",
   "metadata": {},
   "source": [
    "---\n",
    "\n",
    "## Fallback: DSL-grammar to LLM-examples"
   ]
  },
  {
   "cell_type": "markdown",
   "id": "9b49fe94",
   "metadata": {},
   "source": [
    "Instead of having DSL-grammar and LLM computations running in parallel, we can make LLM-graph in which the LLM computations are invoked if the DSL-grammar parsing-and-interpretation fails. Here is such a graph:"
   ]
  },
  {
   "cell_type": "code",
   "execution_count": 295,
   "id": "dd6cb760",
   "metadata": {},
   "outputs": [
    {
     "data": {
      "text/plain": [
       "LLM::Graph(size => 3, nodes => code, dsl-grammar, llm-examples)"
      ]
     },
     "execution_count": 295,
     "metadata": {},
     "output_type": "execute_result"
    }
   ],
   "source": [
    "my %rules =\n",
    "    dsl-grammar => { \n",
    "        eval-function => sub ($spec, $lang = 'Raku') { \n",
    "            my $res = ToDSLCode($spec, to => $lang, format => 'CODE'); \n",
    "            my $checkStr = 'my $obj = ML::SparseMatrixRecommender.new';\n",
    "            return do with $res.match(/ $checkStr /):g { \n",
    "                $/.list.elems > 1 ?? $res.subst($checkStr) !! $res \n",
    "            }\n",
    "        }\n",
    "    },\n",
    "\n",
    "    llm-examples => { \n",
    "        llm-function => \n",
    "            sub ($spec, $lang = 'Raku', $split = False) { \n",
    "                my &llm-pipeline-segment = llm-example-function(dsl-examples(){$lang}<SMRMon>);\n",
    "                return do if $split {\n",
    "                    my @commands = $spec.lines;\n",
    "                    @commands.map({ .&llm-pipeline-segment }).map({ .subst(/:i Output \\h* ':'?/, :g).trim }).join(\"\\n.\")\n",
    "                } else {\n",
    "                    &llm-pipeline-segment($spec).subst(\";\\n\", \"\\n.\"):g\n",
    "                }\n",
    "            },\n",
    "        test-function => sub ($dsl-grammar) { !$dsl-grammar.defined || $dsl-grammar ~~ Str:D && !$dsl-grammar.trim}\n",
    "    },\n",
    "    \n",
    "    code => {\n",
    "            eval-function => sub ($dsl-grammar, $llm-examples) {\n",
    "                $dsl-grammar ~~ Str:D && $dsl-grammar.trim ?? $dsl-grammar !! $llm-examples\n",
    "            }\n",
    "    }        \n",
    ";\n",
    "\n",
    "my $gRobust = LLM::Graph.new(%rules)"
   ]
  },
  {
   "cell_type": "markdown",
   "id": "25a0ac3c",
   "metadata": {},
   "source": [
    "Here the LLM graph run over a spec that can be parsed by DSL-grammar (notice the very short computation time):"
   ]
  },
  {
   "cell_type": "code",
   "execution_count": 285,
   "id": "556b1e94",
   "metadata": {},
   "outputs": [
    {
     "data": {
      "text/plain": [
       "LLM::Graph(size => 3, nodes => code, dsl-grammar, llm-examples)"
      ]
     },
     "execution_count": 285,
     "metadata": {},
     "output_type": "execute_result"
    }
   ],
   "source": [
    "my $spec = q:to/END/;\n",
    "create from @dsData; \n",
    "apply LSI functions IDF, None, Cosine; \n",
    "recommend by profile for passengerSex:male, and passengerClass:1st;\n",
    "join across with @dsData on \"id\";\n",
    "echo the pipeline value;\n",
    "END\n",
    "\n",
    "$gRobust.eval(:$spec, lang => 'Raku')"
   ]
  },
  {
   "cell_type": "markdown",
   "id": "dd5141df",
   "metadata": {},
   "source": [
    "Here is the obtained result:"
   ]
  },
  {
   "cell_type": "code",
   "execution_count": 286,
   "id": "97a43821",
   "metadata": {},
   "outputs": [
    {
     "data": {
      "text/plain": [
       "my $obj = ML::SparseMatrixRecommender.new.create-from-wide-form(@dsData).apply-term-weight-functions(global-weight-func => \"IDF\", local-weight-func => \"None\", normalizer-func => \"Cosine\").recommend-by-profile([\"passengerSex:male\", \"passengerClass:1st\"]).join-across(@dsData, on => \"id\" ).echo-value()"
      ]
     },
     "execution_count": 286,
     "metadata": {},
     "output_type": "execute_result"
    }
   ],
   "source": [
    "$gRobust.nodes<code><result>"
   ]
  },
  {
   "cell_type": "markdown",
   "id": "8f912691",
   "metadata": {},
   "source": [
    "Here is the spec cannot be parsed by DSL-grammar interpreter:"
   ]
  },
  {
   "cell_type": "code",
   "execution_count": 296,
   "id": "cae8326e",
   "metadata": {},
   "outputs": [
    {
     "name": "stderr",
     "output_type": "stream",
     "text": [
      "Cannot parse the command; target 'new recommender with @dsData, please' position 0; parsed '', un-parsed 'new recommender with @dsData, please' .\n"
     ]
    },
    {
     "data": {
      "text/plain": [
       "LLM::Graph(size => 3, nodes => code, dsl-grammar, llm-examples)"
      ]
     },
     "execution_count": 296,
     "metadata": {},
     "output_type": "execute_result"
    }
   ],
   "source": [
    "my $spec = q:to/END/;\n",
    "new recommender with @dsData, please; \n",
    "apply LSI functions IDF, None, Cosine; \n",
    "recommend by profile for passengerSex:male, and passengerClass:1st;\n",
    "join across with @dsData on \"id\";\n",
    "echo the pipeline value;\n",
    "END\n",
    "\n",
    "$gRobust.eval(:$spec, lang => 'Raku')"
   ]
  },
  {
   "cell_type": "markdown",
   "id": "40adc493",
   "metadata": {},
   "source": [
    "Nevertheless, we obtain result via LLM-examples:"
   ]
  },
  {
   "cell_type": "code",
   "execution_count": 298,
   "id": "dff9eeb9",
   "metadata": {},
   "outputs": [
    {
     "data": {
      "text/plain": [
       "ML::SparseMatrixRecommender.new(@dsData)\n",
       ".apply-term-weight-functions('IDF', 'None', 'Cosine')\n",
       ".recommend-by-profile({'passengerSex.male' => 1, 'passengerClass.1st' => 1})\n",
       ".join-across(@dsData, on => 'id')\n",
       ".echo-value();"
      ]
     },
     "execution_count": 298,
     "metadata": {},
     "output_type": "execute_result"
    }
   ],
   "source": [
    "$gRobust.nodes<code><result>"
   ]
  },
  {
   "cell_type": "markdown",
   "id": "9c594118",
   "metadata": {},
   "source": [
    "Here is the corresponding graph plot:"
   ]
  },
  {
   "cell_type": "code",
   "execution_count": 299,
   "id": "2f90739f",
   "metadata": {},
   "outputs": [
    {
     "data": {
      "text/html": [
       "<?xml version=\"1.0\" encoding=\"UTF-8\" standalone=\"no\"?>\n",
       "<!DOCTYPE svg PUBLIC \"-//W3C//DTD SVG 1.1//EN\"\n",
       " \"http://www.w3.org/Graphics/SVG/1.1/DTD/svg11.dtd\">\n",
       "<!-- Generated by graphviz version 14.0.0 (20250921.2048)\n",
       " -->\n",
       "<!-- Pages: 1 -->\n",
       "<svg width=\"360pt\" height=\"253pt\"\n",
       " viewBox=\"0.00 0.00 360.00 253.00\" xmlns=\"http://www.w3.org/2000/svg\" xmlns:xlink=\"http://www.w3.org/1999/xlink\">\n",
       "<g id=\"graph0\" class=\"graph\" transform=\"scale(1.25044 1.25044) rotate(0) translate(4 198.4)\">\n",
       "<polygon fill=\"none\" stroke=\"none\" points=\"-4,4 -4,-198.4 283.9,-198.4 283.9,4 -4,4\"/>\n",
       "<!-- code -->\n",
       "<g id=\"node1\" class=\"node\">\n",
       "<title>code</title>\n",
       "<polygon fill=\"SteelBlue\" stroke=\"grey\" points=\"241.65,-21.6 119.25,-21.6 119.25,0 241.65,0 241.65,-21.6\"/>\n",
       "<text xml:space=\"preserve\" text-anchor=\"middle\" x=\"180.45\" y=\"-6.52\" font-family=\"Times,serif\" font-size=\"12.00\" fill=\"White\">code</text>\n",
       "</g>\n",
       "<!-- dsl&#45;grammar -->\n",
       "<g id=\"node2\" class=\"node\">\n",
       "<title>dsl&#45;grammar</title>\n",
       "<polygon fill=\"SteelBlue\" stroke=\"grey\" points=\"197.65,-136.8 75.25,-136.8 75.25,-115.2 197.65,-115.2 197.65,-136.8\"/>\n",
       "<text xml:space=\"preserve\" text-anchor=\"middle\" x=\"136.45\" y=\"-121.72\" font-family=\"Times,serif\" font-size=\"12.00\" fill=\"White\">dsl&#45;grammar</text>\n",
       "</g>\n",
       "<!-- dsl&#45;grammar&#45;&gt;code -->\n",
       "<g id=\"edge3\" class=\"edge\">\n",
       "<title>dsl&#45;grammar&#45;&gt;code</title>\n",
       "<path fill=\"none\" stroke=\"grey\" stroke-width=\"0.4\" d=\"M164.1,-114.71C179.56,-107.36 197.47,-95.81 206.45,-79.2 215.06,-63.27 205.69,-43.87 195.88,-29.98\"/>\n",
       "<polygon fill=\"grey\" stroke=\"grey\" stroke-width=\"0.4\" points=\"198.79,-28.03 189.92,-22.22 193.24,-32.29 198.79,-28.03\"/>\n",
       "</g>\n",
       "<!-- llm&#45;examples -->\n",
       "<g id=\"node4\" class=\"node\">\n",
       "<title>llm&#45;examples</title>\n",
       "<ellipse fill=\"SteelBlue\" stroke=\"grey\" cx=\"136.45\" cy=\"-68.4\" rx=\"61.2\" ry=\"10.8\"/>\n",
       "<text xml:space=\"preserve\" text-anchor=\"middle\" x=\"136.45\" y=\"-64.12\" font-family=\"Times,serif\" font-size=\"12.00\" fill=\"White\">llm&#45;examples</text>\n",
       "</g>\n",
       "<!-- dsl&#45;grammar&#45;&gt;llm&#45;examples -->\n",
       "<g id=\"edge2\" class=\"edge\">\n",
       "<title>dsl&#45;grammar&#45;&gt;llm&#45;examples</title>\n",
       "<path fill=\"none\" stroke=\"grey\" stroke-width=\"0.4\" stroke-dasharray=\"5,2\" d=\"M136.45,-114.8C136.45,-107.91 136.45,-98.55 136.45,-90.13\"/>\n",
       "<polygon fill=\"grey\" stroke=\"grey\" stroke-width=\"0.4\" points=\"139.95,-90.14 136.45,-80.14 132.95,-90.14 139.95,-90.14\"/>\n",
       "</g>\n",
       "<!-- lang -->\n",
       "<g id=\"node3\" class=\"node\">\n",
       "<title>lang</title>\n",
       "<polygon fill=\"SteelBlue\" stroke=\"grey\" points=\"126.9,-194.4 25.96,-194.4 0,-172.8 100.93,-172.8 126.9,-194.4\"/>\n",
       "<text xml:space=\"preserve\" text-anchor=\"middle\" x=\"63.45\" y=\"-179.32\" font-family=\"Times,serif\" font-size=\"12.00\" fill=\"White\">lang</text>\n",
       "</g>\n",
       "<!-- lang&#45;&gt;dsl&#45;grammar -->\n",
       "<g id=\"edge6\" class=\"edge\">\n",
       "<title>lang&#45;&gt;dsl&#45;grammar</title>\n",
       "<path fill=\"none\" stroke=\"grey\" stroke-width=\"0.4\" d=\"M76.84,-172.4C87.44,-164.33 102.45,-152.89 114.76,-143.52\"/>\n",
       "<polygon fill=\"grey\" stroke=\"grey\" stroke-width=\"0.4\" points=\"116.83,-146.34 122.66,-137.5 112.59,-140.77 116.83,-146.34\"/>\n",
       "</g>\n",
       "<!-- lang&#45;&gt;llm&#45;examples -->\n",
       "<g id=\"edge7\" class=\"edge\">\n",
       "<title>lang&#45;&gt;llm&#45;examples</title>\n",
       "<path fill=\"none\" stroke=\"grey\" stroke-width=\"0.4\" d=\"M61.24,-172.69C58.71,-158.82 56.13,-133.31 66.45,-115.2 74.45,-101.15 88.73,-90.66 102.31,-83.29\"/>\n",
       "<polygon fill=\"grey\" stroke=\"grey\" stroke-width=\"0.4\" points=\"103.6,-86.56 110.98,-78.95 100.47,-80.3 103.6,-86.56\"/>\n",
       "</g>\n",
       "<!-- llm&#45;examples&#45;&gt;code -->\n",
       "<g id=\"edge1\" class=\"edge\">\n",
       "<title>llm&#45;examples&#45;&gt;code</title>\n",
       "<path fill=\"none\" stroke=\"grey\" stroke-width=\"0.4\" d=\"M144.52,-57.2C150.54,-49.6 158.91,-39.01 166.07,-29.98\"/>\n",
       "<polygon fill=\"grey\" stroke=\"grey\" stroke-width=\"0.4\" points=\"168.59,-32.42 172.05,-22.41 163.1,-28.08 168.59,-32.42\"/>\n",
       "</g>\n",
       "<!-- spec -->\n",
       "<g id=\"node5\" class=\"node\">\n",
       "<title>spec</title>\n",
       "<polygon fill=\"SteelBlue\" stroke=\"grey\" points=\"279.9,-194.4 178.96,-194.4 153,-172.8 253.93,-172.8 279.9,-194.4\"/>\n",
       "<text xml:space=\"preserve\" text-anchor=\"middle\" x=\"216.45\" y=\"-179.32\" font-family=\"Times,serif\" font-size=\"12.00\" fill=\"White\">spec</text>\n",
       "</g>\n",
       "<!-- spec&#45;&gt;dsl&#45;grammar -->\n",
       "<g id=\"edge5\" class=\"edge\">\n",
       "<title>spec&#45;&gt;dsl&#45;grammar</title>\n",
       "<path fill=\"none\" stroke=\"grey\" stroke-width=\"0.4\" d=\"M201.78,-172.4C189.94,-164.17 173.06,-152.45 159.43,-142.97\"/>\n",
       "<polygon fill=\"grey\" stroke=\"grey\" stroke-width=\"0.4\" points=\"161.74,-140.31 151.53,-137.48 157.74,-146.06 161.74,-140.31\"/>\n",
       "</g>\n",
       "<!-- spec&#45;&gt;llm&#45;examples -->\n",
       "<g id=\"edge4\" class=\"edge\">\n",
       "<title>spec&#45;&gt;llm&#45;examples</title>\n",
       "<path fill=\"none\" stroke=\"grey\" stroke-width=\"0.4\" d=\"M217.39,-172.58C218.2,-158.59 217.8,-132.93 206.45,-115.2 197.61,-101.39 182.94,-90.85 169.31,-83.38\"/>\n",
       "<polygon fill=\"grey\" stroke=\"grey\" stroke-width=\"0.4\" points=\"171.17,-80.4 160.67,-78.98 167.99,-86.63 171.17,-80.4\"/>\n",
       "</g>\n",
       "</g>\n",
       "</svg>\n"
      ]
     },
     "execution_count": 299,
     "metadata": {},
     "output_type": "execute_result"
    }
   ],
   "source": [
    "#% html\n",
    "$gRobust.dot(engine => 'dot', :5graph-size, node-width => 1.7, node-color => 'grey', edge-color => 'grey', edge-width => 0.4, theme => 'default'):svg"
   ]
  }
 ],
 "metadata": {
  "kernelspec": {
   "display_name": "RakuChatbook",
   "language": "raku",
   "name": "raku"
  },
  "language_info": {
   "file_extension": ".raku",
   "mimetype": "text/x-raku",
   "name": "raku",
   "version": "6.d"
  }
 },
 "nbformat": 4,
 "nbformat_minor": 5
}
