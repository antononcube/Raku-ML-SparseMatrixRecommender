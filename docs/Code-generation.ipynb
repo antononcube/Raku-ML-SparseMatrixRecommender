{
 "cells": [
  {
   "cell_type": "markdown",
   "id": "e2f36935",
   "metadata": {},
   "source": [
    "# Code generation for recommender workflows\n",
    "\n",
    "Anton Antonov  \n",
    "RakuForPrediction at WordPress   \n",
    "October 2025"
   ]
  },
  {
   "cell_type": "markdown",
   "id": "5806f075",
   "metadata": {},
   "source": [
    "----\n",
    "\n",
    "## Setup"
   ]
  },
  {
   "cell_type": "code",
   "execution_count": 26,
   "id": "6df02b76",
   "metadata": {},
   "outputs": [],
   "source": [
    "use Data::Reshapers;\n",
    "use Data::Importers;\n",
    "use Data::Summarizers;\n",
    "\n",
    "use DSL::Translators;\n",
    "use DSL::Examples;\n",
    "use ML::NLPTemplateEngine;\n",
    "\n",
    "use Math::SparseMatrix :ALL;\n",
    "use Math::SparseMatrix::DOK;\n",
    "use Math::SparseMatrix::Utilities;\n",
    "\n",
    "use ML::SparseMatrixRecommender;"
   ]
  },
  {
   "cell_type": "markdown",
   "id": "2fdd3a1e",
   "metadata": {},
   "source": [
    "----\n",
    "\n",
    "## Ingestion"
   ]
  },
  {
   "cell_type": "code",
   "execution_count": 2,
   "id": "99093c0d",
   "metadata": {},
   "outputs": [
    {
     "data": {
      "text/plain": [
       "(1309 5)"
      ]
     },
     "execution_count": 2,
     "metadata": {},
     "output_type": "execute_result"
    }
   ],
   "source": [
    "my $url = 'https://raw.githubusercontent.com/antononcube/MathematicaVsR/refs/heads/master/Data/MathematicaVsR-Data-Titanic.csv';\n",
    "my @dsData = data-import($url, headers => 'auto');\n",
    "#@dsData .= map({ $_<id> = 'id.' ~ $_<id>; $_ });\n",
    "#@dsData .= map({ $_<passengerAge> = $_<passengerAge>.Int; $_ });\n",
    "@dsData.&dimensions"
   ]
  },
  {
   "cell_type": "code",
   "execution_count": 3,
   "id": "48f03e52",
   "metadata": {},
   "outputs": [
    {
     "data": {
      "text/plain": [
       "Vector(Assoc(Atom((Str)), Atom((Str)), 5), 1309)"
      ]
     },
     "execution_count": 3,
     "metadata": {},
     "output_type": "execute_result"
    }
   ],
   "source": [
    "deduce-type(@dsData);"
   ]
  },
  {
   "cell_type": "markdown",
   "id": "cf2bd6d3",
   "metadata": {},
   "source": [
    "---\n",
    "\n",
    "## SMR"
   ]
  },
  {
   "cell_type": "code",
   "execution_count": 20,
   "id": "fe94711c",
   "metadata": {},
   "outputs": [
    {
     "data": {
      "text/plain": [
       "ML::SparseMatrixRecommender(:matrix-dimensions((1309, 17)), :density(<4/17>), :tag-types((\"passengerClass\", \"passengerSex\", \"passengerAge\", \"passengerSurvival\")))"
      ]
     },
     "execution_count": 20,
     "metadata": {},
     "output_type": "execute_result"
    }
   ],
   "source": [
    "my $smrObj = \n",
    "    ML::SparseMatrixRecommender.new\n",
    "    .create-from-wide-form(@dsData,\n",
    "        item-column-name => \"id\",\n",
    "        tag-types => <passengerSex passengerClass passengerAge passengerSurvival>,\n",
    "        :add-tag-types-to-column-names,\n",
    "        tag-value-separator => \":\")\n",
    "    .apply-term-weight-functions(\"IDF\", \"None\", \"Cosine\")"
   ]
  },
  {
   "cell_type": "code",
   "execution_count": 5,
   "id": "6414d948",
   "metadata": {},
   "outputs": [
    {
     "data": {
      "text/plain": [
       "[passengerSex:female passengerSex:male passengerClass:1st passengerClass:2nd passengerClass:3rd passengerSurvival:died passengerSurvival:survived]"
      ]
     },
     "execution_count": 5,
     "metadata": {},
     "output_type": "execute_result"
    }
   ],
   "source": [
    "$smrObj.take-M.column-names"
   ]
  },
  {
   "cell_type": "code",
   "execution_count": 6,
   "id": "af69da7a",
   "metadata": {},
   "outputs": [
    {
     "data": {
      "text/html": [
       "<table border=\"1\"><thead><tr><th>score</th><th>id</th><th>passengerAge</th><th>passengerClass</th><th>passengerSex</th><th>passengerSurvival</th></tr></thead><tbody><tr><td>1</td><td>10</td><td>70</td><td>1st</td><td>male</td><td>died</td></tr><tr><td>1</td><td>1001</td><td>-1</td><td>3rd</td><td>male</td><td>survived</td></tr><tr><td>1</td><td>1004</td><td>-1</td><td>3rd</td><td>male</td><td>survived</td></tr><tr><td>1</td><td>1006</td><td>-1</td><td>3rd</td><td>male</td><td>died</td></tr><tr><td>1</td><td>101</td><td>50</td><td>1st</td><td>male</td><td>survived</td></tr><tr><td>1</td><td>1010</td><td>-1</td><td>3rd</td><td>male</td><td>died</td></tr><tr><td>1</td><td>1011</td><td>20</td><td>3rd</td><td>male</td><td>died</td></tr><tr><td>1</td><td>1016</td><td>60</td><td>3rd</td><td>male</td><td>died</td></tr><tr><td>1</td><td>1017</td><td>-1</td><td>3rd</td><td>male</td><td>died</td></tr><tr><td>1</td><td>1018</td><td>20</td><td>3rd</td><td>male</td><td>survived</td></tr><tr><td>1</td><td>1019</td><td>-1</td><td>3rd</td><td>male</td><td>died</td></tr><tr><td>1</td><td>102</td><td>40</td><td>1st</td><td>male</td><td>died</td></tr></tbody></table>"
      ]
     },
     "execution_count": 6,
     "metadata": {},
     "output_type": "execute_result"
    }
   ],
   "source": [
    "#% html\n",
    "my @field-names = 'score', 'id', |@dsData.head.keys.grep(* ne 'id').sort;\n",
    "$smrObj\n",
    ".recommend-by-profile({\"passengerSex:male\" => 1, \"passengerAge:30\" => 20}, 12)\n",
    ".join-across(@dsData)\n",
    ".take-value\n",
    "==> to-html(:@field-names)   "
   ]
  },
  {
   "cell_type": "code",
   "execution_count": 22,
   "id": "2624254c",
   "metadata": {},
   "outputs": [
    {
     "data": {
      "text/plain": [
       "(passengerClass passengerSex passengerAge passengerSurvival)"
      ]
     },
     "execution_count": 22,
     "metadata": {},
     "output_type": "execute_result"
    }
   ],
   "source": [
    "$smrObj.take-matrices.keys"
   ]
  },
  {
   "cell_type": "code",
   "execution_count": 24,
   "id": "b5a69e3f",
   "metadata": {},
   "outputs": [
    {
     "name": "stdout",
     "output_type": "stream",
     "text": [
      "[1089 => 8 1132 => 8 1197 => 8 1229 => 8 614 => 8 631 => 8 675 => 8 715 => 8 747 => 8 761 => 8]\n",
      "+----------+------+--------------+----------------+--------------+-------------------+\n",
      "|  score   |  id  | passengerAge | passengerClass | passengerSex | passengerSurvival |\n",
      "+----------+------+--------------+----------------+--------------+-------------------+\n",
      "| 8.000000 | 1089 |      30      |      3rd       |     male     |      survived     |\n",
      "| 8.000000 | 1132 |      30      |      3rd       |     male     |      survived     |\n",
      "| 8.000000 | 1197 |      30      |      3rd       |     male     |      survived     |\n",
      "| 8.000000 | 1229 |      30      |      3rd       |     male     |      survived     |\n",
      "| 8.000000 | 614  |      30      |      3rd       |     male     |      survived     |\n",
      "| 8.000000 | 631  |      30      |      3rd       |     male     |      survived     |\n",
      "| 8.000000 | 675  |      30      |      3rd       |     male     |      survived     |\n",
      "| 8.000000 | 715  |      30      |      3rd       |     male     |      survived     |\n",
      "| 8.000000 | 747  |      30      |      3rd       |     male     |      survived     |\n",
      "| 8.000000 | 761  |      30      |      3rd       |     male     |      survived     |\n",
      "+----------+------+--------------+----------------+--------------+-------------------+\n"
     ]
    }
   ],
   "source": [
    "#% html\n",
    "my @field-names = [|<score id>, |$smrObj.take-matrices.keys.sort];\n",
    "sink $smrObj\n",
    ".recommend(<1089 1132>, 10, :!remove-history)\n",
    ".echo-value\n",
    ".join-across(@dsData, on => 'id')\n",
    ".echo-value(as => {&to-pretty-table($_, :@field-names)});"
   ]
  },
  {
   "cell_type": "markdown",
   "id": "6fe99c4a",
   "metadata": {},
   "source": [
    "----\n",
    "\n",
    "## DSL translation (grammars, ProdGDT)"
   ]
  },
  {
   "cell_type": "code",
   "execution_count": null,
   "id": "acc87cb8",
   "metadata": {},
   "outputs": [],
   "source": [
    "'\n",
    "create from @dsData; \n",
    "apply LSI functions IDF, None, Cosine; \n",
    "recommend by profile for passengerSex:male, and passengerClass:1st\n",
    "'\n",
    "==> dsl-web-translation(format => 'CODE')"
   ]
  },
  {
   "cell_type": "code",
   "execution_count": null,
   "id": "510c44f1",
   "metadata": {},
   "outputs": [],
   "source": [
    "'\n",
    "create from @dsData; \n",
    "apply LSI functions IDF, None, Cosine; \n",
    "recommend by profile for passengerSex:male, and passengerClass:1st;\n",
    "join across with @dsData on \"id\";\n",
    "echo the pipeline value\n",
    "'\n",
    "==> ToDSLCode(to => 'Raku', format => 'CODE')"
   ]
  },
  {
   "cell_type": "markdown",
   "id": "fb4e7e2b",
   "metadata": {},
   "source": [
    "----\n",
    "\n",
    "## DSL Translation (LLM examples)"
   ]
  },
  {
   "cell_type": "code",
   "execution_count": null,
   "id": "73938735",
   "metadata": {},
   "outputs": [],
   "source": [
    "#% html\n",
    "dsl-examples().map({ $_.key X $_.value.keys }).flat(1).map({ <language workflow> Z=> $_ })».Hash.sort.Array\n",
    "==> to-dataset()\n",
    "==> to-html(field-names => <language workflow>)"
   ]
  },
  {
   "cell_type": "code",
   "execution_count": null,
   "id": "34a36776",
   "metadata": {},
   "outputs": [],
   "source": [
    "my &llm-pipeline-segment = llm-example-function(dsl-examples()<Raku><SMRMon>);"
   ]
  },
  {
   "cell_type": "code",
   "execution_count": null,
   "id": "dc28f5af",
   "metadata": {},
   "outputs": [],
   "source": [
    "my $spec = q:to/END/;\n",
    "new recommender;\n",
    "create from @dsData; \n",
    "apply LSI functions IDF, None, Cosine; \n",
    "recommend by profile for passengerSex:male, and passengerClass:1st;\n",
    "join across with @dsData on \"id\";\n",
    "echo the pipeline value;\n",
    "classify by profile passengerSex:female, and passengerClass:1st on the tag passengerSurvival;\n",
    "echo value\n",
    "END\n",
    "\n",
    "sink my @commands = $spec.lines;"
   ]
  },
  {
   "cell_type": "code",
   "execution_count": null,
   "id": "a38fc3d4",
   "metadata": {},
   "outputs": [],
   "source": [
    "@commands\n",
    ".map({ .&llm-pipeline-segment })\n",
    ".map({ .subst(/:i Output ':'?/):g })\n",
    ".join(\"\\n.\")"
   ]
  },
  {
   "cell_type": "markdown",
   "id": "a72111ac",
   "metadata": {},
   "source": [
    "----\n",
    "\n",
    "## NLP Template Engine"
   ]
  },
  {
   "cell_type": "code",
   "execution_count": 31,
   "id": "ac54fd20",
   "metadata": {},
   "outputs": [
    {
     "data": {
      "text/plain": [
       "my $smrObj = ML::SparseMatrixRecommender.new\n",
       ".create-from-wide-form(dfTitanic, item-column-name='id', :add-tag-types-to-column-names, tag-value-separator=':')\n",
       ".apply-term-weight-functions('IDF', 'None', 'Cosine')\n",
       ".recommend-by-profile([\"1st\"], 12, :!normalize)\n",
       ".join-across(dfTitanic)\n",
       ".echo-value();"
      ]
     },
     "execution_count": 31,
     "metadata": {},
     "output_type": "execute_result"
    }
   ],
   "source": [
    "'create with dfTitanic; apply the LSI functions IDF, None, Cosine;recommend by profile 1st and male'\n",
    "==> concretize(lang => \"Raku\")\n"
   ]
  }
 ],
 "metadata": {
  "kernelspec": {
   "display_name": "RakuChatbook",
   "language": "raku",
   "name": "raku"
  },
  "language_info": {
   "file_extension": ".raku",
   "mimetype": "text/x-raku",
   "name": "raku",
   "version": "6.d"
  }
 },
 "nbformat": 4,
 "nbformat_minor": 5
}
